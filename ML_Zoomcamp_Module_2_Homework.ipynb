{
  "nbformat": 4,
  "nbformat_minor": 0,
  "metadata": {
    "colab": {
      "provenance": []
    },
    "kernelspec": {
      "name": "python3",
      "display_name": "Python 3"
    },
    "language_info": {
      "name": "python"
    }
  },
  "cells": [
    {
      "cell_type": "code",
      "execution_count": 16,
      "metadata": {
        "id": "4r-ogsPlJ4q9"
      },
      "outputs": [],
      "source": [
        "import numpy as np\n",
        "import pandas as pd\n",
        "import matplotlib.pyplot as plt\n",
        "import seaborn as sns"
      ]
    },
    {
      "cell_type": "code",
      "source": [
        "data = !wget https://raw.githubusercontent.com/alexeygrigorev/datasets/master/laptops.csv"
      ],
      "metadata": {
        "id": "wLOkSx1ZKIbg"
      },
      "execution_count": 17,
      "outputs": []
    },
    {
      "cell_type": "code",
      "source": [
        "df = pd.read_csv('laptops.csv')"
      ],
      "metadata": {
        "id": "VuO3ZZCQKMhl"
      },
      "execution_count": 18,
      "outputs": []
    },
    {
      "cell_type": "code",
      "source": [
        "df.columns = df.columns.str.lower().str.replace(' ', '_')"
      ],
      "metadata": {
        "id": "Lf405wIcKmQW"
      },
      "execution_count": 19,
      "outputs": []
    },
    {
      "cell_type": "code",
      "source": [
        "columns = ['ram', 'storage', 'screen', 'final_price']"
      ],
      "metadata": {
        "id": "17GKPALZLF7f"
      },
      "execution_count": 20,
      "outputs": []
    },
    {
      "cell_type": "code",
      "source": [
        "df.final_price.hist()"
      ],
      "metadata": {
        "colab": {
          "base_uri": "https://localhost:8080/",
          "height": 447
        },
        "id": "gt__uUn-LV3n",
        "outputId": "57dea1ae-bada-4abd-e7b2-1d125d6e0973"
      },
      "execution_count": 21,
      "outputs": [
        {
          "output_type": "execute_result",
          "data": {
            "text/plain": [
              "<Axes: >"
            ]
          },
          "metadata": {},
          "execution_count": 21
        },
        {
          "output_type": "display_data",
          "data": {
            "text/plain": [
              "<Figure size 640x480 with 1 Axes>"
            ],
            "image/png": "[encoded data removed]"
          },
          "metadata": {}
        }
      ]
    },
    {
      "cell_type": "markdown",
      "source": [
        "**Question 1**\n",
        "There's one column with missing values. What is it?\n",
        "\n",
        "*   'ram'\n",
        "*   'storage'\n",
        "*   'screen'\n",
        "*   'final_price'"
      ],
      "metadata": {
        "id": "0hpp8jmxMiJD"
      }
    },
    {
      "cell_type": "code",
      "source": [
        "df[columns].isna().sum() >0"
      ],
      "metadata": {
        "colab": {
          "base_uri": "https://localhost:8080/",
          "height": 210
        },
        "id": "Z65wJI45Lb6j",
        "outputId": "4ac1365f-13fd-4916-840b-d0041167f88d"
      },
      "execution_count": 22,
      "outputs": [
        {
          "output_type": "execute_result",
          "data": {
            "text/plain": [
              "ram            False\n",
              "storage        False\n",
              "screen          True\n",
              "final_price    False\n",
              "dtype: bool"
            ],
            "text/html": [
              "<div>\n",
              "<style scoped>\n",
              "    .dataframe tbody tr th:only-of-type {\n",
              "        vertical-align: middle;\n",
              "    }\n",
              "\n",
              "    .dataframe tbody tr th {\n",
              "        vertical-align: top;\n",
              "    }\n",
              "\n",
              "    .dataframe thead th {\n",
              "        text-align: right;\n",
              "    }\n",
              "</style>\n",
              "<table border=\"1\" class=\"dataframe\">\n",
              "  <thead>\n",
              "    <tr style=\"text-align: right;\">\n",
              "      <th></th>\n",
              "      <th>0</th>\n",
              "    </tr>\n",
              "  </thead>\n",
              "  <tbody>\n",
              "    <tr>\n",
              "      <th>ram</th>\n",
              "      <td>False</td>\n",
              "    </tr>\n",
              "    <tr>\n",
              "      <th>storage</th>\n",
              "      <td>False</td>\n",
              "    </tr>\n",
              "    <tr>\n",
              "      <th>screen</th>\n",
              "      <td>True</td>\n",
              "    </tr>\n",
              "    <tr>\n",
              "      <th>final_price</th>\n",
              "      <td>False</td>\n",
              "    </tr>\n",
              "  </tbody>\n",
              "</table>\n",
              "</div><br><label><b>dtype:</b> bool</label>"
            ]
          },
          "metadata": {},
          "execution_count": 22
        }
      ]
    },
    {
      "cell_type": "markdown",
      "source": [
        "**Question 2**\n",
        "What's the median (50% percentile) for variable 'ram'?\n",
        "\n",
        "*   8\n",
        "*   16\n",
        "*   24\n",
        "*   32"
      ],
      "metadata": {
        "id": "d4Gjihq-NV4V"
      }
    },
    {
      "cell_type": "code",
      "source": [
        "ram_med = df['ram'].median()\n",
        "\n",
        "print('Median of ram variable:', ram_med)"
      ],
      "metadata": {
        "colab": {
          "base_uri": "https://localhost:8080/"
        },
        "id": "gzZSqxaSLlC-",
        "outputId": "1277e0a9-6f4c-4539-e276-eaa9012c0d40"
      },
      "execution_count": 23,
      "outputs": [
        {
          "output_type": "stream",
          "name": "stdout",
          "text": [
            "Median of ram variable: 16.0\n"
          ]
        }
      ]
    },
    {
      "cell_type": "markdown",
      "source": [
        "Prepare and split the dataset\n",
        "Shuffle the dataset (the filtered one you created above), use seed 42.\n",
        "Split your data in train/val/test sets, with 60%/20%/20% distribution.\n",
        "Use the same code as in the lectures"
      ],
      "metadata": {
        "id": "IE9J0EqoN9lZ"
      }
    },
    {
      "cell_type": "code",
      "source": [
        "filt_df = df[columns]\n",
        "n = len(filt_df)\n",
        "\n",
        "n_test = int((n*0.2))\n",
        "n_val = int((n*0.2))\n",
        "n_train = int(n - n_test - n_val)\n",
        "\n",
        "n_train, n_val, n_test"
      ],
      "metadata": {
        "colab": {
          "base_uri": "https://localhost:8080/"
        },
        "id": "znNJvWogSTOU",
        "outputId": "3ff97d0a-20de-4bc2-a49a-fee5c2287093"
      },
      "execution_count": 24,
      "outputs": [
        {
          "output_type": "execute_result",
          "data": {
            "text/plain": [
              "(1296, 432, 432)"
            ]
          },
          "metadata": {},
          "execution_count": 24
        }
      ]
    },
    {
      "cell_type": "code",
      "source": [
        "filt_df = df[columns]\n",
        "n = len(filt_df)\n",
        "\n",
        "n_test = int((n*0.2))\n",
        "n_val = int((n*0.2))\n",
        "n_train = int((n - n_test - n_val))\n",
        "\n",
        "idx = np.arange(n)\n",
        "np.random.seed(42)\n",
        "np.random.shuffle(idx)\n",
        "\n",
        "df_train = filt_df.loc[idx[:n_train]]\n",
        "df_val = filt_df.loc[idx[n_train:n_train+n_val]]\n",
        "df_test = filt_df.loc[idx[n_train+n_val:]]\n",
        "\n",
        "print('Length of train: ',len(df_train))\n",
        "print('Length of val: ',len(df_val))\n",
        "print('Length of test: ',len(df_test))"
      ],
      "metadata": {
        "colab": {
          "base_uri": "https://localhost:8080/"
        },
        "id": "EtpRKzvUPGmV",
        "outputId": "6cd138c4-3b77-43b2-ad4a-056789080659"
      },
      "execution_count": 25,
      "outputs": [
        {
          "output_type": "stream",
          "name": "stdout",
          "text": [
            "Length of train:  1296\n",
            "Length of val:  432\n",
            "Length of test:  432\n"
          ]
        }
      ]
    },
    {
      "cell_type": "markdown",
      "source": [
        "**Question 3**\n",
        "\n",
        "\n",
        "*   We need to deal with missing values for the column from Q1.\n",
        "*   We have two options: fill it with 0 or with the mean of this variable.\n",
        "*   Try both options. For each, train a linear regression model without regularization using the code from the lessons.\n",
        "*   For computing the mean, use the training only!\n",
        "*   Use the validation dataset to evaluate the models and compare the RMSE of each option.\n",
        "*   Round the RMSE scores to 2 decimal digits using round(score, 2)\n",
        "*   Which option gives better RMSE?\n",
        "\n",
        "Options:\n",
        "\n",
        "*   With 0\n",
        "*   With mean\n",
        "*   Both are equally good"
      ],
      "metadata": {
        "id": "HpZ59tdaPI5Y"
      }
    },
    {
      "cell_type": "code",
      "source": [
        "X_train = df_train.drop('final_price',axis=1).fillna(0)\n",
        "y_train = df_train.final_price\n",
        "X_val = df_val.drop('final_price',axis=1).fillna(0)\n",
        "y_val = df_val.final_price\n",
        "\n",
        "def train_linear_regression(X,y):\n",
        "    ones = np.ones(X.shape[0])\n",
        "    X = np.column_stack([ones, X])\n",
        "\n",
        "    XTX = X.T.dot(X)\n",
        "    XTX_inv = np.linalg.inv(XTX)\n",
        "    w_full = XTX_inv.dot(X.T).dot(y)\n",
        "\n",
        "    return w_full[0], w_full[1:]\n",
        "\n",
        "w0, w = train_linear_regression(X_train,y_train)\n",
        "\n",
        "y_pred = w0 + X_val.dot(w)\n",
        "\n",
        "def rmse(y, y_pred):\n",
        "    se = (y - y_pred) **2\n",
        "    mse = se.mean()\n",
        "\n",
        "    return np.sqrt(mse)\n",
        "\n",
        "print('RMSE:' ,rmse(y_val,y_pred))"
      ],
      "metadata": {
        "id": "qhdjxClSNnTc",
        "colab": {
          "base_uri": "https://localhost:8080/"
        },
        "outputId": "4af7ef5a-13cf-45dd-cd1c-d2f1f23e4ef4"
      },
      "execution_count": 33,
      "outputs": [
        {
          "output_type": "stream",
          "name": "stdout",
          "text": [
            "RMSE: 565.4520868771027\n"
          ]
        }
      ]
    },
    {
      "cell_type": "code",
      "source": [
        "X_train = df_train.drop('final_price',axis=1).fillna(df_train.screen.mean())\n",
        "y_train = df_train.final_price\n",
        "X_val = df_val.drop('final_price',axis=1).fillna(df_train.screen.mean())\n",
        "y_val = df_val.final_price\n",
        "\n",
        "w0, w = train_linear_regression(X_train,y_train)\n",
        "y_pred = w0 + X_val.dot(w)\n",
        "\n",
        "print('RMSE:' ,rmse(y_val,y_pred))"
      ],
      "metadata": {
        "id": "ceV9__oMTvKF",
        "colab": {
          "base_uri": "https://localhost:8080/"
        },
        "outputId": "7fa85874-ac15-4da8-cf23-faa4f9b490f3"
      },
      "execution_count": 45,
      "outputs": [
        {
          "output_type": "stream",
          "name": "stdout",
          "text": [
            "RMSE: 566.8493872813442\n"
          ]
        }
      ]
    },
    {
      "cell_type": "markdown",
      "source": [
        "**Question 4**\n",
        "* Now let's train a regularized linear regression.\n",
        "* For this question, fill the NAs with 0.\n",
        "* Try different values of r from this list: [0, 0.01, 0.1, 1, 5, 10, 100].\n",
        "* Use RMSE to evaluate the model on the validation dataset.\n",
        "* Round the RMSE scores to 2 decimal digits.\n",
        "* Which r gives the best RMSE?\n",
        "* If there are multiple options, select the smallest\n",
        "\n",
        "Options:\n",
        "\n",
        "* 0\n",
        "* 0.01\n",
        "* 1\n",
        "* 10\n",
        "* 100"
      ],
      "metadata": {
        "id": "FyGofbgX2DH-"
      }
    },
    {
      "cell_type": "code",
      "source": [
        "def train_linear_regression_reg(X,y,r=0.001):\n",
        "    ones = np.ones(X.shape[0])\n",
        "    X = np.column_stack([ones, X])\n",
        "\n",
        "    XTX = X.T.dot(X)\n",
        "    XTX = XTX + r * np.eye(XTX.shape[0])\n",
        "\n",
        "    XTX_inv = np.linalg.inv(XTX)\n",
        "    w_full = XTX_inv.dot(X.T).dot(y)\n",
        "\n",
        "    return w_full[0], w_full[1:]\n",
        "\n",
        "for r in [0, 0.01, 0.1, 1, 5, 10, 100]:\n",
        "    X_train = df_train.drop('final_price',axis=1).fillna(0)\n",
        "    w0, w = train_linear_regression_reg(X_train, y_train,r=r)\n",
        "    y_pred = w0 + X_val.dot(w)\n",
        "    print('RMSE:' ,rmse(y_val,y_pred))"
      ],
      "metadata": {
        "id": "aQ2fd-BATig5",
        "colab": {
          "base_uri": "https://localhost:8080/"
        },
        "outputId": "637e9c01-d046-4d8b-b315-6ea587a51a96"
      },
      "execution_count": 46,
      "outputs": [
        {
          "output_type": "stream",
          "name": "stdout",
          "text": [
            "RMSE: 566.8944314676934\n",
            "RMSE: 566.890752471792\n",
            "RMSE: 566.858126430886\n",
            "RMSE: 566.574395901238\n",
            "RMSE: 565.8746544019414\n",
            "RMSE: 565.5340414099755\n",
            "RMSE: 565.2922866540451\n"
          ]
        }
      ]
    },
    {
      "cell_type": "markdown",
      "source": [
        "**Question 5**\n",
        "* We used seed 42 for splitting the data. Let's find out how selecting the seed influences our score.\n",
        "* Try different seed values: [0, 1, 2, 3, 4, 5, 6, 7, 8, 9].\n",
        "* For each seed, do the train/validation/test split with 60%/20%/20% distribution.\n",
        "* Fill the missing values with 0 and train a model without regularization.\n",
        "* For each seed, evaluate the model on the validation dataset and collect the RMSE scores.\n",
        "* What's the standard deviation of all the scores? To compute the standard deviation, use np.std.\n",
        "* Round the result to 3 decimal digits (round(std, 3))\n",
        "\n",
        "\n",
        "What's the value of std?\n",
        "\n",
        "* 19.176\n",
        "* 29.176\n",
        "* 39.176\n",
        "* 49.176"
      ],
      "metadata": {
        "id": "xLTDfEqgTff6"
      }
    },
    {
      "cell_type": "code",
      "source": [
        "filt_df = df[columns]\n",
        "n = len(filt_df)\n",
        "\n",
        "n_test = int((n*0.2))\n",
        "n_val = int((n*0.2))\n",
        "n_train = int((n - n_test - n_val))\n",
        "\n",
        "idx = np.arange(n)\n",
        "\n",
        "scores = []\n",
        "\n",
        "for s in range(10):\n",
        "  np.random.seed(s)\n",
        "  np.random.shuffle(idx)\n",
        "\n",
        "  df_train = filt_df.loc[idx[:n_train]]\n",
        "  df_val = filt_df.loc[idx[n_train:n_train+n_val]]\n",
        "  df_test = filt_df.loc[idx[n_train+n_val:]]\n",
        "\n",
        "  X_train = df_train.drop('final_price',axis=1).fillna(0)\n",
        "  y_train = df_train.final_price\n",
        "  X_val = df_val.drop('final_price',axis=1).fillna(0)\n",
        "  y_val = df_val.final_price\n",
        "\n",
        "  w0, w = train_linear_regression(X_train,y_train)\n",
        "  y_pred = w0 + X_val.dot(w)\n",
        "  error = rmse(y_val,y_pred)\n",
        "  scores.append(error)\n",
        "\n",
        "print(round(np.std(scores),3))"
      ],
      "metadata": {
        "id": "c2ydrp1e3enK",
        "colab": {
          "base_uri": "https://localhost:8080/"
        },
        "outputId": "f10285c7-3dd3-4cf4-d3e0-9e703f3e1079"
      },
      "execution_count": 47,
      "outputs": [
        {
          "output_type": "stream",
          "name": "stdout",
          "text": [
            "33.49\n"
          ]
        }
      ]
    },
    {
      "cell_type": "markdown",
      "source": [
        "**Question 6**\n",
        "\n",
        "* Split the dataset like previously, use seed 9.\n",
        "* Combine train and validation datasets.\n",
        "* Fill the missing values with 0 and train a model with r=0.001.\n",
        "\n",
        "What's the RMSE on the test dataset?\n",
        "\n",
        "Options:\n",
        "\n",
        "* 598.60\n",
        "* 608.60\n",
        "* 618.60\n",
        "* 628.60"
      ],
      "metadata": {
        "id": "QDihFktCYZ97"
      }
    },
    {
      "cell_type": "code",
      "source": [
        "filt_df = df[columns]\n",
        "n = len(filt_df)\n",
        "\n",
        "n_test = int((n*0.2))\n",
        "n_val = int((n*0.2))\n",
        "n_train = int((n - n_test - n_val))\n",
        "\n",
        "idx = np.arange(n)\n",
        "np.random.seed(9)\n",
        "np.random.shuffle(idx)\n",
        "\n",
        "df_train = filt_df.loc[idx[:n_train]]\n",
        "df_val = filt_df.loc[idx[n_train:n_train+n_val]]\n",
        "df_test = filt_df.loc[idx[n_train+n_val:]]\n",
        "\n",
        "y_train = df_train.final_price\n",
        "y_val = df_val.final_price\n",
        "X_test = df_test.drop('final_price',axis=1).fillna(0)\n",
        "y_test = df_test.final_price\n",
        "\n",
        "X = pd.concat([df_train, df_val], axis=0).drop('final_price',axis=1).fillna(0)\n",
        "y = pd.concat([y_train, y_val], axis=0)\n",
        "\n",
        "w0, w = train_linear_regression_reg(X,y,r=0.001)\n",
        "y_pred = w0 + X_test.dot(w)\n",
        "print('RMSE:' ,rmse(y_test,y_pred))\n"
      ],
      "metadata": {
        "colab": {
          "base_uri": "https://localhost:8080/"
        },
        "id": "xi8uC9UoXAJz",
        "outputId": "5eaf4c8a-0931-4be0-b1e7-f7bd77b55cf7"
      },
      "execution_count": 48,
      "outputs": [
        {
          "output_type": "stream",
          "name": "stdout",
          "text": [
            "RMSE: 608.609982204956\n"
          ]
        }
      ]
    },
    {
      "cell_type": "code",
      "source": [],
      "metadata": {
        "id": "gjJ22kKUckmo"
      },
      "execution_count": null,
      "outputs": []
    }
  ]
}