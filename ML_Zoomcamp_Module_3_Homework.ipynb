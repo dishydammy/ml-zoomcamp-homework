{
  "cells": [
    {
      "cell_type": "code",
      "execution_count": null,
      "id": "16b61e1c",
      "metadata": {
        "id": "16b61e1c"
      },
      "outputs": [],
      "source": [
        "import numpy as np\n",
        "import pandas as pd\n",
        "import matplotlib.pyplot as plt\n",
        "import seaborn as sns\n",
        "\n",
        "%matplotlib inline"
      ]
    },
    {
      "cell_type": "code",
      "execution_count": null,
      "id": "ea44843d",
      "metadata": {
        "id": "ea44843d"
      },
      "outputs": [],
      "source": [
        "df = pd.read_csv('bank-full.csv', header=None)"
      ]
    },
    {
      "cell_type": "code",
      "execution_count": null,
      "id": "8c2b98a0",
      "metadata": {
        "id": "8c2b98a0",
        "outputId": "6f55e951-876f-4079-a56f-61fecd2048fc"
      },
      "outputs": [
        {
          "data": {
            "text/html": [
              "<div>\n",
              "<style scoped>\n",
              "    .dataframe tbody tr th:only-of-type {\n",
              "        vertical-align: middle;\n",
              "    }\n",
              "\n",
              "    .dataframe tbody tr th {\n",
              "        vertical-align: top;\n",
              "    }\n",
              "\n",
              "    .dataframe thead th {\n",
              "        text-align: right;\n",
              "    }\n",
              "</style>\n",
              "<table border=\"1\" class=\"dataframe\">\n",
              "  <thead>\n",
              "    <tr style=\"text-align: right;\">\n",
              "      <th></th>\n",
              "      <th>0</th>\n",
              "    </tr>\n",
              "  </thead>\n",
              "  <tbody>\n",
              "    <tr>\n",
              "      <th>0</th>\n",
              "      <td>age;\"job\";\"marital\";\"education\";\"default\";\"bal...</td>\n",
              "    </tr>\n",
              "    <tr>\n",
              "      <th>1</th>\n",
              "      <td>58;\"management\";\"married\";\"tertiary\";\"no\";2143...</td>\n",
              "    </tr>\n",
              "    <tr>\n",
              "      <th>2</th>\n",
              "      <td>44;\"technician\";\"single\";\"secondary\";\"no\";29;\"...</td>\n",
              "    </tr>\n",
              "    <tr>\n",
              "      <th>3</th>\n",
              "      <td>33;\"entrepreneur\";\"married\";\"secondary\";\"no\";2...</td>\n",
              "    </tr>\n",
              "    <tr>\n",
              "      <th>4</th>\n",
              "      <td>47;\"blue-collar\";\"married\";\"unknown\";\"no\";1506...</td>\n",
              "    </tr>\n",
              "  </tbody>\n",
              "</table>\n",
              "</div>"
            ],
            "text/plain": [
              "                                                   0\n",
              "0  age;\"job\";\"marital\";\"education\";\"default\";\"bal...\n",
              "1  58;\"management\";\"married\";\"tertiary\";\"no\";2143...\n",
              "2  44;\"technician\";\"single\";\"secondary\";\"no\";29;\"...\n",
              "3  33;\"entrepreneur\";\"married\";\"secondary\";\"no\";2...\n",
              "4  47;\"blue-collar\";\"married\";\"unknown\";\"no\";1506..."
            ]
          },
          "execution_count": 3,
          "metadata": {},
          "output_type": "execute_result"
        }
      ],
      "source": [
        "df.head()"
      ]
    },
    {
      "cell_type": "code",
      "execution_count": null,
      "id": "900e725d",
      "metadata": {
        "id": "900e725d"
      },
      "outputs": [],
      "source": [
        "df_cleaned = df[0].str.split(';',expand=True)"
      ]
    },
    {
      "cell_type": "code",
      "execution_count": null,
      "id": "fa5a1dba",
      "metadata": {
        "id": "fa5a1dba"
      },
      "outputs": [],
      "source": [
        "df_cleaned.columns = df_cleaned.iloc[0]"
      ]
    },
    {
      "cell_type": "code",
      "execution_count": null,
      "id": "cfa49d41",
      "metadata": {
        "id": "cfa49d41"
      },
      "outputs": [],
      "source": [
        "df_cleaned = df_cleaned[1:].reset_index().drop('index', axis=1)"
      ]
    },
    {
      "cell_type": "code",
      "execution_count": null,
      "id": "fee28fd9",
      "metadata": {
        "id": "fee28fd9",
        "outputId": "e34fc158-cff4-497a-85cd-4256684fb292"
      },
      "outputs": [
        {
          "data": {
            "text/html": [
              "<div>\n",
              "<style scoped>\n",
              "    .dataframe tbody tr th:only-of-type {\n",
              "        vertical-align: middle;\n",
              "    }\n",
              "\n",
              "    .dataframe tbody tr th {\n",
              "        vertical-align: top;\n",
              "    }\n",
              "\n",
              "    .dataframe thead th {\n",
              "        text-align: right;\n",
              "    }\n",
              "</style>\n",
              "<table border=\"1\" class=\"dataframe\">\n",
              "  <thead>\n",
              "    <tr style=\"text-align: right;\">\n",
              "      <th></th>\n",
              "      <th>age</th>\n",
              "      <th>\"job\"</th>\n",
              "      <th>\"marital\"</th>\n",
              "      <th>\"education\"</th>\n",
              "      <th>\"default\"</th>\n",
              "      <th>\"balance\"</th>\n",
              "      <th>\"housing\"</th>\n",
              "      <th>\"loan\"</th>\n",
              "      <th>\"contact\"</th>\n",
              "      <th>\"day\"</th>\n",
              "      <th>\"month\"</th>\n",
              "      <th>\"duration\"</th>\n",
              "      <th>\"campaign\"</th>\n",
              "      <th>\"pdays\"</th>\n",
              "      <th>\"previous\"</th>\n",
              "      <th>\"poutcome\"</th>\n",
              "      <th>\"y\"</th>\n",
              "    </tr>\n",
              "  </thead>\n",
              "  <tbody>\n",
              "    <tr>\n",
              "      <th>0</th>\n",
              "      <td>58</td>\n",
              "      <td>\"management\"</td>\n",
              "      <td>\"married\"</td>\n",
              "      <td>\"tertiary\"</td>\n",
              "      <td>\"no\"</td>\n",
              "      <td>2143</td>\n",
              "      <td>\"yes\"</td>\n",
              "      <td>\"no\"</td>\n",
              "      <td>\"unknown\"</td>\n",
              "      <td>5</td>\n",
              "      <td>\"may\"</td>\n",
              "      <td>261</td>\n",
              "      <td>1</td>\n",
              "      <td>-1</td>\n",
              "      <td>0</td>\n",
              "      <td>\"unknown\"</td>\n",
              "      <td>\"no\"</td>\n",
              "    </tr>\n",
              "    <tr>\n",
              "      <th>1</th>\n",
              "      <td>44</td>\n",
              "      <td>\"technician\"</td>\n",
              "      <td>\"single\"</td>\n",
              "      <td>\"secondary\"</td>\n",
              "      <td>\"no\"</td>\n",
              "      <td>29</td>\n",
              "      <td>\"yes\"</td>\n",
              "      <td>\"no\"</td>\n",
              "      <td>\"unknown\"</td>\n",
              "      <td>5</td>\n",
              "      <td>\"may\"</td>\n",
              "      <td>151</td>\n",
              "      <td>1</td>\n",
              "      <td>-1</td>\n",
              "      <td>0</td>\n",
              "      <td>\"unknown\"</td>\n",
              "      <td>\"no\"</td>\n",
              "    </tr>\n",
              "    <tr>\n",
              "      <th>2</th>\n",
              "      <td>33</td>\n",
              "      <td>\"entrepreneur\"</td>\n",
              "      <td>\"married\"</td>\n",
              "      <td>\"secondary\"</td>\n",
              "      <td>\"no\"</td>\n",
              "      <td>2</td>\n",
              "      <td>\"yes\"</td>\n",
              "      <td>\"yes\"</td>\n",
              "      <td>\"unknown\"</td>\n",
              "      <td>5</td>\n",
              "      <td>\"may\"</td>\n",
              "      <td>76</td>\n",
              "      <td>1</td>\n",
              "      <td>-1</td>\n",
              "      <td>0</td>\n",
              "      <td>\"unknown\"</td>\n",
              "      <td>\"no\"</td>\n",
              "    </tr>\n",
              "    <tr>\n",
              "      <th>3</th>\n",
              "      <td>47</td>\n",
              "      <td>\"blue-collar\"</td>\n",
              "      <td>\"married\"</td>\n",
              "      <td>\"unknown\"</td>\n",
              "      <td>\"no\"</td>\n",
              "      <td>1506</td>\n",
              "      <td>\"yes\"</td>\n",
              "      <td>\"no\"</td>\n",
              "      <td>\"unknown\"</td>\n",
              "      <td>5</td>\n",
              "      <td>\"may\"</td>\n",
              "      <td>92</td>\n",
              "      <td>1</td>\n",
              "      <td>-1</td>\n",
              "      <td>0</td>\n",
              "      <td>\"unknown\"</td>\n",
              "      <td>\"no\"</td>\n",
              "    </tr>\n",
              "    <tr>\n",
              "      <th>4</th>\n",
              "      <td>33</td>\n",
              "      <td>\"unknown\"</td>\n",
              "      <td>\"single\"</td>\n",
              "      <td>\"unknown\"</td>\n",
              "      <td>\"no\"</td>\n",
              "      <td>1</td>\n",
              "      <td>\"no\"</td>\n",
              "      <td>\"no\"</td>\n",
              "      <td>\"unknown\"</td>\n",
              "      <td>5</td>\n",
              "      <td>\"may\"</td>\n",
              "      <td>198</td>\n",
              "      <td>1</td>\n",
              "      <td>-1</td>\n",
              "      <td>0</td>\n",
              "      <td>\"unknown\"</td>\n",
              "      <td>\"no\"</td>\n",
              "    </tr>\n",
              "  </tbody>\n",
              "</table>\n",
              "</div>"
            ],
            "text/plain": [
              "0 age           \"job\"  \"marital\"  \"education\" \"default\" \"balance\" \"housing\"  \\\n",
              "0  58    \"management\"  \"married\"   \"tertiary\"      \"no\"      2143     \"yes\"   \n",
              "1  44    \"technician\"   \"single\"  \"secondary\"      \"no\"        29     \"yes\"   \n",
              "2  33  \"entrepreneur\"  \"married\"  \"secondary\"      \"no\"         2     \"yes\"   \n",
              "3  47   \"blue-collar\"  \"married\"    \"unknown\"      \"no\"      1506     \"yes\"   \n",
              "4  33       \"unknown\"   \"single\"    \"unknown\"      \"no\"         1      \"no\"   \n",
              "\n",
              "0 \"loan\"  \"contact\" \"day\" \"month\" \"duration\" \"campaign\" \"pdays\" \"previous\"  \\\n",
              "0   \"no\"  \"unknown\"     5   \"may\"        261          1      -1          0   \n",
              "1   \"no\"  \"unknown\"     5   \"may\"        151          1      -1          0   \n",
              "2  \"yes\"  \"unknown\"     5   \"may\"         76          1      -1          0   \n",
              "3   \"no\"  \"unknown\"     5   \"may\"         92          1      -1          0   \n",
              "4   \"no\"  \"unknown\"     5   \"may\"        198          1      -1          0   \n",
              "\n",
              "0 \"poutcome\"   \"y\"  \n",
              "0  \"unknown\"  \"no\"  \n",
              "1  \"unknown\"  \"no\"  \n",
              "2  \"unknown\"  \"no\"  \n",
              "3  \"unknown\"  \"no\"  \n",
              "4  \"unknown\"  \"no\"  "
            ]
          },
          "execution_count": 7,
          "metadata": {},
          "output_type": "execute_result"
        }
      ],
      "source": [
        "df_cleaned.head()"
      ]
    },
    {
      "cell_type": "code",
      "execution_count": null,
      "id": "0672f334",
      "metadata": {
        "id": "0672f334"
      },
      "outputs": [],
      "source": [
        "df = df_cleaned"
      ]
    },
    {
      "cell_type": "code",
      "execution_count": null,
      "id": "f03d2de9",
      "metadata": {
        "id": "f03d2de9",
        "outputId": "6c1eeca6-e9f5-4973-dc37-a1237f722f14"
      },
      "outputs": [
        {
          "name": "stdout",
          "output_type": "stream",
          "text": [
            "<class 'pandas.core.frame.DataFrame'>\n",
            "RangeIndex: 45211 entries, 0 to 45210\n",
            "Data columns (total 17 columns):\n",
            " #   Column       Non-Null Count  Dtype \n",
            "---  ------       --------------  ----- \n",
            " 0   age          45211 non-null  object\n",
            " 1   \"job\"        45211 non-null  object\n",
            " 2   \"marital\"    45211 non-null  object\n",
            " 3   \"education\"  45211 non-null  object\n",
            " 4   \"default\"    45211 non-null  object\n",
            " 5   \"balance\"    45211 non-null  object\n",
            " 6   \"housing\"    45211 non-null  object\n",
            " 7   \"loan\"       45211 non-null  object\n",
            " 8   \"contact\"    45211 non-null  object\n",
            " 9   \"day\"        45211 non-null  object\n",
            " 10  \"month\"      45211 non-null  object\n",
            " 11  \"duration\"   45211 non-null  object\n",
            " 12  \"campaign\"   45211 non-null  object\n",
            " 13  \"pdays\"      45211 non-null  object\n",
            " 14  \"previous\"   45211 non-null  object\n",
            " 15  \"poutcome\"   45211 non-null  object\n",
            " 16  \"y\"          45211 non-null  object\n",
            "dtypes: object(17)\n",
            "memory usage: 5.9+ MB\n"
          ]
        }
      ],
      "source": [
        "df.info()"
      ]
    },
    {
      "cell_type": "code",
      "execution_count": null,
      "id": "6ce9fa9a",
      "metadata": {
        "id": "6ce9fa9a"
      },
      "outputs": [],
      "source": [
        "df.columns = df.columns.str.lower().str.replace('\"','')"
      ]
    },
    {
      "cell_type": "code",
      "execution_count": null,
      "id": "f21a9c83",
      "metadata": {
        "id": "f21a9c83"
      },
      "outputs": [],
      "source": [
        "categorical_columns = list(df.dtypes[df.dtypes == 'object'].index)\n",
        "\n",
        "for c in categorical_columns:\n",
        "    df[c] = df[c].str.lower().str.replace('\"','')"
      ]
    },
    {
      "cell_type": "code",
      "execution_count": null,
      "id": "607b2fc8",
      "metadata": {
        "id": "607b2fc8",
        "outputId": "28b59291-1956-4073-e96d-b4a56c7c3c86"
      },
      "outputs": [
        {
          "data": {
            "text/html": [
              "<div>\n",
              "<style scoped>\n",
              "    .dataframe tbody tr th:only-of-type {\n",
              "        vertical-align: middle;\n",
              "    }\n",
              "\n",
              "    .dataframe tbody tr th {\n",
              "        vertical-align: top;\n",
              "    }\n",
              "\n",
              "    .dataframe thead th {\n",
              "        text-align: right;\n",
              "    }\n",
              "</style>\n",
              "<table border=\"1\" class=\"dataframe\">\n",
              "  <thead>\n",
              "    <tr style=\"text-align: right;\">\n",
              "      <th></th>\n",
              "      <th>age</th>\n",
              "      <th>job</th>\n",
              "      <th>marital</th>\n",
              "      <th>education</th>\n",
              "      <th>default</th>\n",
              "      <th>balance</th>\n",
              "      <th>housing</th>\n",
              "      <th>loan</th>\n",
              "      <th>contact</th>\n",
              "      <th>day</th>\n",
              "      <th>month</th>\n",
              "      <th>duration</th>\n",
              "      <th>campaign</th>\n",
              "      <th>pdays</th>\n",
              "      <th>previous</th>\n",
              "      <th>poutcome</th>\n",
              "      <th>y</th>\n",
              "    </tr>\n",
              "  </thead>\n",
              "  <tbody>\n",
              "    <tr>\n",
              "      <th>0</th>\n",
              "      <td>58</td>\n",
              "      <td>management</td>\n",
              "      <td>married</td>\n",
              "      <td>tertiary</td>\n",
              "      <td>no</td>\n",
              "      <td>2143</td>\n",
              "      <td>yes</td>\n",
              "      <td>no</td>\n",
              "      <td>unknown</td>\n",
              "      <td>5</td>\n",
              "      <td>may</td>\n",
              "      <td>261</td>\n",
              "      <td>1</td>\n",
              "      <td>-1</td>\n",
              "      <td>0</td>\n",
              "      <td>unknown</td>\n",
              "      <td>no</td>\n",
              "    </tr>\n",
              "    <tr>\n",
              "      <th>1</th>\n",
              "      <td>44</td>\n",
              "      <td>technician</td>\n",
              "      <td>single</td>\n",
              "      <td>secondary</td>\n",
              "      <td>no</td>\n",
              "      <td>29</td>\n",
              "      <td>yes</td>\n",
              "      <td>no</td>\n",
              "      <td>unknown</td>\n",
              "      <td>5</td>\n",
              "      <td>may</td>\n",
              "      <td>151</td>\n",
              "      <td>1</td>\n",
              "      <td>-1</td>\n",
              "      <td>0</td>\n",
              "      <td>unknown</td>\n",
              "      <td>no</td>\n",
              "    </tr>\n",
              "    <tr>\n",
              "      <th>2</th>\n",
              "      <td>33</td>\n",
              "      <td>entrepreneur</td>\n",
              "      <td>married</td>\n",
              "      <td>secondary</td>\n",
              "      <td>no</td>\n",
              "      <td>2</td>\n",
              "      <td>yes</td>\n",
              "      <td>yes</td>\n",
              "      <td>unknown</td>\n",
              "      <td>5</td>\n",
              "      <td>may</td>\n",
              "      <td>76</td>\n",
              "      <td>1</td>\n",
              "      <td>-1</td>\n",
              "      <td>0</td>\n",
              "      <td>unknown</td>\n",
              "      <td>no</td>\n",
              "    </tr>\n",
              "    <tr>\n",
              "      <th>3</th>\n",
              "      <td>47</td>\n",
              "      <td>blue-collar</td>\n",
              "      <td>married</td>\n",
              "      <td>unknown</td>\n",
              "      <td>no</td>\n",
              "      <td>1506</td>\n",
              "      <td>yes</td>\n",
              "      <td>no</td>\n",
              "      <td>unknown</td>\n",
              "      <td>5</td>\n",
              "      <td>may</td>\n",
              "      <td>92</td>\n",
              "      <td>1</td>\n",
              "      <td>-1</td>\n",
              "      <td>0</td>\n",
              "      <td>unknown</td>\n",
              "      <td>no</td>\n",
              "    </tr>\n",
              "    <tr>\n",
              "      <th>4</th>\n",
              "      <td>33</td>\n",
              "      <td>unknown</td>\n",
              "      <td>single</td>\n",
              "      <td>unknown</td>\n",
              "      <td>no</td>\n",
              "      <td>1</td>\n",
              "      <td>no</td>\n",
              "      <td>no</td>\n",
              "      <td>unknown</td>\n",
              "      <td>5</td>\n",
              "      <td>may</td>\n",
              "      <td>198</td>\n",
              "      <td>1</td>\n",
              "      <td>-1</td>\n",
              "      <td>0</td>\n",
              "      <td>unknown</td>\n",
              "      <td>no</td>\n",
              "    </tr>\n",
              "    <tr>\n",
              "      <th>...</th>\n",
              "      <td>...</td>\n",
              "      <td>...</td>\n",
              "      <td>...</td>\n",
              "      <td>...</td>\n",
              "      <td>...</td>\n",
              "      <td>...</td>\n",
              "      <td>...</td>\n",
              "      <td>...</td>\n",
              "      <td>...</td>\n",
              "      <td>...</td>\n",
              "      <td>...</td>\n",
              "      <td>...</td>\n",
              "      <td>...</td>\n",
              "      <td>...</td>\n",
              "      <td>...</td>\n",
              "      <td>...</td>\n",
              "      <td>...</td>\n",
              "    </tr>\n",
              "    <tr>\n",
              "      <th>45206</th>\n",
              "      <td>51</td>\n",
              "      <td>technician</td>\n",
              "      <td>married</td>\n",
              "      <td>tertiary</td>\n",
              "      <td>no</td>\n",
              "      <td>825</td>\n",
              "      <td>no</td>\n",
              "      <td>no</td>\n",
              "      <td>cellular</td>\n",
              "      <td>17</td>\n",
              "      <td>nov</td>\n",
              "      <td>977</td>\n",
              "      <td>3</td>\n",
              "      <td>-1</td>\n",
              "      <td>0</td>\n",
              "      <td>unknown</td>\n",
              "      <td>yes</td>\n",
              "    </tr>\n",
              "    <tr>\n",
              "      <th>45207</th>\n",
              "      <td>71</td>\n",
              "      <td>retired</td>\n",
              "      <td>divorced</td>\n",
              "      <td>primary</td>\n",
              "      <td>no</td>\n",
              "      <td>1729</td>\n",
              "      <td>no</td>\n",
              "      <td>no</td>\n",
              "      <td>cellular</td>\n",
              "      <td>17</td>\n",
              "      <td>nov</td>\n",
              "      <td>456</td>\n",
              "      <td>2</td>\n",
              "      <td>-1</td>\n",
              "      <td>0</td>\n",
              "      <td>unknown</td>\n",
              "      <td>yes</td>\n",
              "    </tr>\n",
              "    <tr>\n",
              "      <th>45208</th>\n",
              "      <td>72</td>\n",
              "      <td>retired</td>\n",
              "      <td>married</td>\n",
              "      <td>secondary</td>\n",
              "      <td>no</td>\n",
              "      <td>5715</td>\n",
              "      <td>no</td>\n",
              "      <td>no</td>\n",
              "      <td>cellular</td>\n",
              "      <td>17</td>\n",
              "      <td>nov</td>\n",
              "      <td>1127</td>\n",
              "      <td>5</td>\n",
              "      <td>184</td>\n",
              "      <td>3</td>\n",
              "      <td>success</td>\n",
              "      <td>yes</td>\n",
              "    </tr>\n",
              "    <tr>\n",
              "      <th>45209</th>\n",
              "      <td>57</td>\n",
              "      <td>blue-collar</td>\n",
              "      <td>married</td>\n",
              "      <td>secondary</td>\n",
              "      <td>no</td>\n",
              "      <td>668</td>\n",
              "      <td>no</td>\n",
              "      <td>no</td>\n",
              "      <td>telephone</td>\n",
              "      <td>17</td>\n",
              "      <td>nov</td>\n",
              "      <td>508</td>\n",
              "      <td>4</td>\n",
              "      <td>-1</td>\n",
              "      <td>0</td>\n",
              "      <td>unknown</td>\n",
              "      <td>no</td>\n",
              "    </tr>\n",
              "    <tr>\n",
              "      <th>45210</th>\n",
              "      <td>37</td>\n",
              "      <td>entrepreneur</td>\n",
              "      <td>married</td>\n",
              "      <td>secondary</td>\n",
              "      <td>no</td>\n",
              "      <td>2971</td>\n",
              "      <td>no</td>\n",
              "      <td>no</td>\n",
              "      <td>cellular</td>\n",
              "      <td>17</td>\n",
              "      <td>nov</td>\n",
              "      <td>361</td>\n",
              "      <td>2</td>\n",
              "      <td>188</td>\n",
              "      <td>11</td>\n",
              "      <td>other</td>\n",
              "      <td>no</td>\n",
              "    </tr>\n",
              "  </tbody>\n",
              "</table>\n",
              "<p>45211 rows × 17 columns</p>\n",
              "</div>"
            ],
            "text/plain": [
              "0     age           job   marital  education default balance housing loan  \\\n",
              "0      58    management   married   tertiary      no    2143     yes   no   \n",
              "1      44    technician    single  secondary      no      29     yes   no   \n",
              "2      33  entrepreneur   married  secondary      no       2     yes  yes   \n",
              "3      47   blue-collar   married    unknown      no    1506     yes   no   \n",
              "4      33       unknown    single    unknown      no       1      no   no   \n",
              "...    ..           ...       ...        ...     ...     ...     ...  ...   \n",
              "45206  51    technician   married   tertiary      no     825      no   no   \n",
              "45207  71       retired  divorced    primary      no    1729      no   no   \n",
              "45208  72       retired   married  secondary      no    5715      no   no   \n",
              "45209  57   blue-collar   married  secondary      no     668      no   no   \n",
              "45210  37  entrepreneur   married  secondary      no    2971      no   no   \n",
              "\n",
              "0        contact day month duration campaign pdays previous poutcome    y  \n",
              "0        unknown   5   may      261        1    -1        0  unknown   no  \n",
              "1        unknown   5   may      151        1    -1        0  unknown   no  \n",
              "2        unknown   5   may       76        1    -1        0  unknown   no  \n",
              "3        unknown   5   may       92        1    -1        0  unknown   no  \n",
              "4        unknown   5   may      198        1    -1        0  unknown   no  \n",
              "...          ...  ..   ...      ...      ...   ...      ...      ...  ...  \n",
              "45206   cellular  17   nov      977        3    -1        0  unknown  yes  \n",
              "45207   cellular  17   nov      456        2    -1        0  unknown  yes  \n",
              "45208   cellular  17   nov     1127        5   184        3  success  yes  \n",
              "45209  telephone  17   nov      508        4    -1        0  unknown   no  \n",
              "45210   cellular  17   nov      361        2   188       11    other   no  \n",
              "\n",
              "[45211 rows x 17 columns]"
            ]
          },
          "execution_count": 12,
          "metadata": {},
          "output_type": "execute_result"
        }
      ],
      "source": [
        "df"
      ]
    },
    {
      "cell_type": "code",
      "execution_count": null,
      "id": "6e6daa21",
      "metadata": {
        "id": "6e6daa21"
      },
      "outputs": [],
      "source": [
        "columns = ['age','job','marital','education','balance','housing','contact','day','month','duration','campaign','pdays','previous','poutcome','y']"
      ]
    },
    {
      "cell_type": "code",
      "execution_count": null,
      "id": "610f7f59",
      "metadata": {
        "id": "610f7f59"
      },
      "outputs": [],
      "source": [
        "new_df = df[columns]"
      ]
    },
    {
      "cell_type": "code",
      "execution_count": null,
      "id": "f8b9fc8d",
      "metadata": {
        "id": "f8b9fc8d",
        "outputId": "3d4710a7-73fc-4979-d6a2-f5b35f3a4121"
      },
      "outputs": [
        {
          "data": {
            "text/html": [
              "<div>\n",
              "<style scoped>\n",
              "    .dataframe tbody tr th:only-of-type {\n",
              "        vertical-align: middle;\n",
              "    }\n",
              "\n",
              "    .dataframe tbody tr th {\n",
              "        vertical-align: top;\n",
              "    }\n",
              "\n",
              "    .dataframe thead th {\n",
              "        text-align: right;\n",
              "    }\n",
              "</style>\n",
              "<table border=\"1\" class=\"dataframe\">\n",
              "  <thead>\n",
              "    <tr style=\"text-align: right;\">\n",
              "      <th></th>\n",
              "      <th>age</th>\n",
              "      <th>job</th>\n",
              "      <th>marital</th>\n",
              "      <th>education</th>\n",
              "      <th>balance</th>\n",
              "      <th>housing</th>\n",
              "      <th>contact</th>\n",
              "      <th>day</th>\n",
              "      <th>month</th>\n",
              "      <th>duration</th>\n",
              "      <th>campaign</th>\n",
              "      <th>pdays</th>\n",
              "      <th>previous</th>\n",
              "      <th>poutcome</th>\n",
              "      <th>y</th>\n",
              "    </tr>\n",
              "  </thead>\n",
              "  <tbody>\n",
              "    <tr>\n",
              "      <th>0</th>\n",
              "      <td>58</td>\n",
              "      <td>management</td>\n",
              "      <td>married</td>\n",
              "      <td>tertiary</td>\n",
              "      <td>2143</td>\n",
              "      <td>yes</td>\n",
              "      <td>unknown</td>\n",
              "      <td>5</td>\n",
              "      <td>may</td>\n",
              "      <td>261</td>\n",
              "      <td>1</td>\n",
              "      <td>-1</td>\n",
              "      <td>0</td>\n",
              "      <td>unknown</td>\n",
              "      <td>no</td>\n",
              "    </tr>\n",
              "    <tr>\n",
              "      <th>1</th>\n",
              "      <td>44</td>\n",
              "      <td>technician</td>\n",
              "      <td>single</td>\n",
              "      <td>secondary</td>\n",
              "      <td>29</td>\n",
              "      <td>yes</td>\n",
              "      <td>unknown</td>\n",
              "      <td>5</td>\n",
              "      <td>may</td>\n",
              "      <td>151</td>\n",
              "      <td>1</td>\n",
              "      <td>-1</td>\n",
              "      <td>0</td>\n",
              "      <td>unknown</td>\n",
              "      <td>no</td>\n",
              "    </tr>\n",
              "    <tr>\n",
              "      <th>2</th>\n",
              "      <td>33</td>\n",
              "      <td>entrepreneur</td>\n",
              "      <td>married</td>\n",
              "      <td>secondary</td>\n",
              "      <td>2</td>\n",
              "      <td>yes</td>\n",
              "      <td>unknown</td>\n",
              "      <td>5</td>\n",
              "      <td>may</td>\n",
              "      <td>76</td>\n",
              "      <td>1</td>\n",
              "      <td>-1</td>\n",
              "      <td>0</td>\n",
              "      <td>unknown</td>\n",
              "      <td>no</td>\n",
              "    </tr>\n",
              "    <tr>\n",
              "      <th>3</th>\n",
              "      <td>47</td>\n",
              "      <td>blue-collar</td>\n",
              "      <td>married</td>\n",
              "      <td>unknown</td>\n",
              "      <td>1506</td>\n",
              "      <td>yes</td>\n",
              "      <td>unknown</td>\n",
              "      <td>5</td>\n",
              "      <td>may</td>\n",
              "      <td>92</td>\n",
              "      <td>1</td>\n",
              "      <td>-1</td>\n",
              "      <td>0</td>\n",
              "      <td>unknown</td>\n",
              "      <td>no</td>\n",
              "    </tr>\n",
              "    <tr>\n",
              "      <th>4</th>\n",
              "      <td>33</td>\n",
              "      <td>unknown</td>\n",
              "      <td>single</td>\n",
              "      <td>unknown</td>\n",
              "      <td>1</td>\n",
              "      <td>no</td>\n",
              "      <td>unknown</td>\n",
              "      <td>5</td>\n",
              "      <td>may</td>\n",
              "      <td>198</td>\n",
              "      <td>1</td>\n",
              "      <td>-1</td>\n",
              "      <td>0</td>\n",
              "      <td>unknown</td>\n",
              "      <td>no</td>\n",
              "    </tr>\n",
              "    <tr>\n",
              "      <th>...</th>\n",
              "      <td>...</td>\n",
              "      <td>...</td>\n",
              "      <td>...</td>\n",
              "      <td>...</td>\n",
              "      <td>...</td>\n",
              "      <td>...</td>\n",
              "      <td>...</td>\n",
              "      <td>...</td>\n",
              "      <td>...</td>\n",
              "      <td>...</td>\n",
              "      <td>...</td>\n",
              "      <td>...</td>\n",
              "      <td>...</td>\n",
              "      <td>...</td>\n",
              "      <td>...</td>\n",
              "    </tr>\n",
              "    <tr>\n",
              "      <th>45206</th>\n",
              "      <td>51</td>\n",
              "      <td>technician</td>\n",
              "      <td>married</td>\n",
              "      <td>tertiary</td>\n",
              "      <td>825</td>\n",
              "      <td>no</td>\n",
              "      <td>cellular</td>\n",
              "      <td>17</td>\n",
              "      <td>nov</td>\n",
              "      <td>977</td>\n",
              "      <td>3</td>\n",
              "      <td>-1</td>\n",
              "      <td>0</td>\n",
              "      <td>unknown</td>\n",
              "      <td>yes</td>\n",
              "    </tr>\n",
              "    <tr>\n",
              "      <th>45207</th>\n",
              "      <td>71</td>\n",
              "      <td>retired</td>\n",
              "      <td>divorced</td>\n",
              "      <td>primary</td>\n",
              "      <td>1729</td>\n",
              "      <td>no</td>\n",
              "      <td>cellular</td>\n",
              "      <td>17</td>\n",
              "      <td>nov</td>\n",
              "      <td>456</td>\n",
              "      <td>2</td>\n",
              "      <td>-1</td>\n",
              "      <td>0</td>\n",
              "      <td>unknown</td>\n",
              "      <td>yes</td>\n",
              "    </tr>\n",
              "    <tr>\n",
              "      <th>45208</th>\n",
              "      <td>72</td>\n",
              "      <td>retired</td>\n",
              "      <td>married</td>\n",
              "      <td>secondary</td>\n",
              "      <td>5715</td>\n",
              "      <td>no</td>\n",
              "      <td>cellular</td>\n",
              "      <td>17</td>\n",
              "      <td>nov</td>\n",
              "      <td>1127</td>\n",
              "      <td>5</td>\n",
              "      <td>184</td>\n",
              "      <td>3</td>\n",
              "      <td>success</td>\n",
              "      <td>yes</td>\n",
              "    </tr>\n",
              "    <tr>\n",
              "      <th>45209</th>\n",
              "      <td>57</td>\n",
              "      <td>blue-collar</td>\n",
              "      <td>married</td>\n",
              "      <td>secondary</td>\n",
              "      <td>668</td>\n",
              "      <td>no</td>\n",
              "      <td>telephone</td>\n",
              "      <td>17</td>\n",
              "      <td>nov</td>\n",
              "      <td>508</td>\n",
              "      <td>4</td>\n",
              "      <td>-1</td>\n",
              "      <td>0</td>\n",
              "      <td>unknown</td>\n",
              "      <td>no</td>\n",
              "    </tr>\n",
              "    <tr>\n",
              "      <th>45210</th>\n",
              "      <td>37</td>\n",
              "      <td>entrepreneur</td>\n",
              "      <td>married</td>\n",
              "      <td>secondary</td>\n",
              "      <td>2971</td>\n",
              "      <td>no</td>\n",
              "      <td>cellular</td>\n",
              "      <td>17</td>\n",
              "      <td>nov</td>\n",
              "      <td>361</td>\n",
              "      <td>2</td>\n",
              "      <td>188</td>\n",
              "      <td>11</td>\n",
              "      <td>other</td>\n",
              "      <td>no</td>\n",
              "    </tr>\n",
              "  </tbody>\n",
              "</table>\n",
              "<p>45211 rows × 15 columns</p>\n",
              "</div>"
            ],
            "text/plain": [
              "0     age           job   marital  education balance housing    contact day  \\\n",
              "0      58    management   married   tertiary    2143     yes    unknown   5   \n",
              "1      44    technician    single  secondary      29     yes    unknown   5   \n",
              "2      33  entrepreneur   married  secondary       2     yes    unknown   5   \n",
              "3      47   blue-collar   married    unknown    1506     yes    unknown   5   \n",
              "4      33       unknown    single    unknown       1      no    unknown   5   \n",
              "...    ..           ...       ...        ...     ...     ...        ...  ..   \n",
              "45206  51    technician   married   tertiary     825      no   cellular  17   \n",
              "45207  71       retired  divorced    primary    1729      no   cellular  17   \n",
              "45208  72       retired   married  secondary    5715      no   cellular  17   \n",
              "45209  57   blue-collar   married  secondary     668      no  telephone  17   \n",
              "45210  37  entrepreneur   married  secondary    2971      no   cellular  17   \n",
              "\n",
              "0     month duration campaign pdays previous poutcome    y  \n",
              "0       may      261        1    -1        0  unknown   no  \n",
              "1       may      151        1    -1        0  unknown   no  \n",
              "2       may       76        1    -1        0  unknown   no  \n",
              "3       may       92        1    -1        0  unknown   no  \n",
              "4       may      198        1    -1        0  unknown   no  \n",
              "...     ...      ...      ...   ...      ...      ...  ...  \n",
              "45206   nov      977        3    -1        0  unknown  yes  \n",
              "45207   nov      456        2    -1        0  unknown  yes  \n",
              "45208   nov     1127        5   184        3  success  yes  \n",
              "45209   nov      508        4    -1        0  unknown   no  \n",
              "45210   nov      361        2   188       11    other   no  \n",
              "\n",
              "[45211 rows x 15 columns]"
            ]
          },
          "execution_count": 15,
          "metadata": {},
          "output_type": "execute_result"
        }
      ],
      "source": [
        "new_df"
      ]
    },
    {
      "cell_type": "code",
      "execution_count": null,
      "id": "248ebe76",
      "metadata": {
        "id": "248ebe76",
        "outputId": "5b5cc950-776b-4d13-e7c3-27c006357bf2"
      },
      "outputs": [
        {
          "name": "stdout",
          "output_type": "stream",
          "text": [
            "<class 'pandas.core.frame.DataFrame'>\n",
            "RangeIndex: 45211 entries, 0 to 45210\n",
            "Data columns (total 15 columns):\n",
            " #   Column     Non-Null Count  Dtype \n",
            "---  ------     --------------  ----- \n",
            " 0   age        45211 non-null  object\n",
            " 1   job        45211 non-null  object\n",
            " 2   marital    45211 non-null  object\n",
            " 3   education  45211 non-null  object\n",
            " 4   balance    45211 non-null  object\n",
            " 5   housing    45211 non-null  object\n",
            " 6   contact    45211 non-null  object\n",
            " 7   day        45211 non-null  object\n",
            " 8   month      45211 non-null  object\n",
            " 9   duration   45211 non-null  object\n",
            " 10  campaign   45211 non-null  object\n",
            " 11  pdays      45211 non-null  object\n",
            " 12  previous   45211 non-null  object\n",
            " 13  poutcome   45211 non-null  object\n",
            " 14  y          45211 non-null  object\n",
            "dtypes: object(15)\n",
            "memory usage: 5.2+ MB\n"
          ]
        }
      ],
      "source": [
        "new_df.info()"
      ]
    },
    {
      "cell_type": "code",
      "execution_count": null,
      "id": "cc56926c",
      "metadata": {
        "id": "cc56926c",
        "outputId": "23465596-4e02-419f-b1a7-ccacc4951eec"
      },
      "outputs": [
        {
          "data": {
            "text/plain": [
              "0    secondary\n",
              "Name: education, dtype: object"
            ]
          },
          "execution_count": 17,
          "metadata": {},
          "output_type": "execute_result"
        }
      ],
      "source": [
        "new_df.education.mode()"
      ]
    },
    {
      "cell_type": "code",
      "execution_count": null,
      "id": "6f4d60a4",
      "metadata": {
        "id": "6f4d60a4",
        "outputId": "08b462e4-2ee1-4d0b-d35b-830261cfc494"
      },
      "outputs": [
        {
          "data": {
            "text/html": [
              "<div>\n",
              "<style scoped>\n",
              "    .dataframe tbody tr th:only-of-type {\n",
              "        vertical-align: middle;\n",
              "    }\n",
              "\n",
              "    .dataframe tbody tr th {\n",
              "        vertical-align: top;\n",
              "    }\n",
              "\n",
              "    .dataframe thead th {\n",
              "        text-align: right;\n",
              "    }\n",
              "</style>\n",
              "<table border=\"1\" class=\"dataframe\">\n",
              "  <thead>\n",
              "    <tr style=\"text-align: right;\">\n",
              "      <th></th>\n",
              "      <th>age</th>\n",
              "      <th>job</th>\n",
              "      <th>marital</th>\n",
              "      <th>education</th>\n",
              "      <th>default</th>\n",
              "      <th>balance</th>\n",
              "      <th>housing</th>\n",
              "      <th>loan</th>\n",
              "      <th>contact</th>\n",
              "      <th>day</th>\n",
              "      <th>month</th>\n",
              "      <th>duration</th>\n",
              "      <th>campaign</th>\n",
              "      <th>pdays</th>\n",
              "      <th>previous</th>\n",
              "      <th>poutcome</th>\n",
              "      <th>y</th>\n",
              "    </tr>\n",
              "  </thead>\n",
              "  <tbody>\n",
              "    <tr>\n",
              "      <th>12061</th>\n",
              "      <td>41</td>\n",
              "      <td>entrepreneur</td>\n",
              "      <td>married</td>\n",
              "      <td>tertiary</td>\n",
              "      <td>no</td>\n",
              "      <td>306</td>\n",
              "      <td>yes</td>\n",
              "      <td>no</td>\n",
              "      <td>unknown</td>\n",
              "      <td>20</td>\n",
              "      <td>jun</td>\n",
              "      <td>102</td>\n",
              "      <td>3</td>\n",
              "      <td>-1</td>\n",
              "      <td>0</td>\n",
              "      <td>unknown</td>\n",
              "      <td>no</td>\n",
              "    </tr>\n",
              "  </tbody>\n",
              "</table>\n",
              "</div>"
            ],
            "text/plain": [
              "0     age           job  marital education default balance housing loan  \\\n",
              "12061  41  entrepreneur  married  tertiary      no     306     yes   no   \n",
              "\n",
              "0      contact day month duration campaign pdays previous poutcome   y  \n",
              "12061  unknown  20   jun      102        3    -1        0  unknown  no  "
            ]
          },
          "execution_count": 18,
          "metadata": {},
          "output_type": "execute_result"
        }
      ],
      "source": [
        "df.sample()"
      ]
    },
    {
      "cell_type": "code",
      "execution_count": null,
      "id": "5224661b",
      "metadata": {
        "id": "5224661b"
      },
      "outputs": [],
      "source": [
        "numerical_col = ['age','balance','day','duration','campaign','pdays','previous']"
      ]
    },
    {
      "cell_type": "code",
      "source": [
        "new_df[numerical_col] = new_df[numerical_col].astype(int)"
      ],
      "metadata": {
        "id": "OuAi1p0obwTE"
      },
      "id": "OuAi1p0obwTE",
      "execution_count": null,
      "outputs": []
    },
    {
      "cell_type": "code",
      "execution_count": null,
      "id": "3b723ca1",
      "metadata": {
        "id": "3b723ca1",
        "outputId": "867d7765-18fa-4cba-9c58-e046ec26e816"
      },
      "outputs": [
        {
          "name": "stdout",
          "output_type": "stream",
          "text": [
            "<class 'pandas.core.frame.DataFrame'>\n",
            "RangeIndex: 45211 entries, 0 to 45210\n",
            "Data columns (total 15 columns):\n",
            " #   Column     Non-Null Count  Dtype \n",
            "---  ------     --------------  ----- \n",
            " 0   age        45211 non-null  int32 \n",
            " 1   job        45211 non-null  object\n",
            " 2   marital    45211 non-null  object\n",
            " 3   education  45211 non-null  object\n",
            " 4   balance    45211 non-null  int32 \n",
            " 5   housing    45211 non-null  object\n",
            " 6   contact    45211 non-null  object\n",
            " 7   day        45211 non-null  int32 \n",
            " 8   month      45211 non-null  object\n",
            " 9   duration   45211 non-null  int32 \n",
            " 10  campaign   45211 non-null  int32 \n",
            " 11  pdays      45211 non-null  int32 \n",
            " 12  previous   45211 non-null  int32 \n",
            " 13  poutcome   45211 non-null  object\n",
            " 14  y          45211 non-null  object\n",
            "dtypes: int32(7), object(8)\n",
            "memory usage: 4.0+ MB\n"
          ]
        }
      ],
      "source": [
        "new_df.info()"
      ]
    },
    {
      "cell_type": "code",
      "execution_count": null,
      "id": "a71aeb32",
      "metadata": {
        "id": "a71aeb32",
        "outputId": "8810b758-a976-4f7c-d0ed-673f4022257d"
      },
      "outputs": [
        {
          "data": {
            "text/plain": [
              "<Axes: xlabel='0', ylabel='0'>"
            ]
          },
          "execution_count": 22,
          "metadata": {},
          "output_type": "execute_result"
        },
        {
          "data": {
            "image/png": "[encoded data removed]",
            "text/plain": [
              "<Figure size 1000x1000 with 2 Axes>"
            ]
          },
          "metadata": {},
          "output_type": "display_data"
        }
      ],
      "source": [
        "plt.figure(figsize=(10,10))\n",
        "sns.heatmap(new_df[numerical_col].corr(),annot=True)"
      ]
    },
    {
      "cell_type": "code",
      "execution_count": null,
      "id": "f325de7f",
      "metadata": {
        "id": "f325de7f",
        "outputId": "aa0e02f2-4dcd-4865-c9a1-9a74011dc9c9"
      },
      "outputs": [
        {
          "name": "stderr",
          "output_type": "stream",
          "text": [
            "C:\\Users\\DAMOLA\\AppData\\Local\\Temp\\ipykernel_9008\\2936882493.py:1: SettingWithCopyWarning: \n",
            "A value is trying to be set on a copy of a slice from a DataFrame.\n",
            "Try using .loc[row_indexer,col_indexer] = value instead\n",
            "\n",
            "See the caveats in the documentation: https://pandas.pydata.org/pandas-docs/stable/user_guide/indexing.html#returning-a-view-versus-a-copy\n",
            "  new_df['target'] = new_df.y == 'yes'\n"
          ]
        }
      ],
      "source": [
        "new_df['target'] = new_df.y == 'yes'"
      ]
    },
    {
      "cell_type": "code",
      "execution_count": null,
      "id": "5522ae07",
      "metadata": {
        "id": "5522ae07",
        "outputId": "c3a532b1-db0a-4e79-a4fc-25b8df4b158d"
      },
      "outputs": [
        {
          "name": "stderr",
          "output_type": "stream",
          "text": [
            "C:\\Users\\DAMOLA\\AppData\\Local\\Temp\\ipykernel_9008\\4166246254.py:1: SettingWithCopyWarning: \n",
            "A value is trying to be set on a copy of a slice from a DataFrame.\n",
            "Try using .loc[row_indexer,col_indexer] = value instead\n",
            "\n",
            "See the caveats in the documentation: https://pandas.pydata.org/pandas-docs/stable/user_guide/indexing.html#returning-a-view-versus-a-copy\n",
            "  new_df.y = new_df.target.astype('int')\n"
          ]
        }
      ],
      "source": [
        "new_df.y = new_df.target.astype('int')"
      ]
    },
    {
      "cell_type": "code",
      "execution_count": null,
      "id": "1f7c00b1",
      "metadata": {
        "id": "1f7c00b1",
        "outputId": "45502384-042c-4cfa-cbca-95872018394e"
      },
      "outputs": [
        {
          "name": "stderr",
          "output_type": "stream",
          "text": [
            "C:\\Users\\DAMOLA\\AppData\\Local\\Temp\\ipykernel_9008\\530697464.py:1: SettingWithCopyWarning: \n",
            "A value is trying to be set on a copy of a slice from a DataFrame\n",
            "\n",
            "See the caveats in the documentation: https://pandas.pydata.org/pandas-docs/stable/user_guide/indexing.html#returning-a-view-versus-a-copy\n",
            "  new_df.drop('target',axis=1,inplace=True)\n"
          ]
        }
      ],
      "source": [
        "new_df.drop('target',axis=1,inplace=True)"
      ]
    },
    {
      "cell_type": "code",
      "execution_count": null,
      "id": "72259ebd",
      "metadata": {
        "id": "72259ebd",
        "outputId": "067c4dad-1ebe-450a-c443-35a87d97904f"
      },
      "outputs": [
        {
          "data": {
            "text/html": [
              "<div>\n",
              "<style scoped>\n",
              "    .dataframe tbody tr th:only-of-type {\n",
              "        vertical-align: middle;\n",
              "    }\n",
              "\n",
              "    .dataframe tbody tr th {\n",
              "        vertical-align: top;\n",
              "    }\n",
              "\n",
              "    .dataframe thead th {\n",
              "        text-align: right;\n",
              "    }\n",
              "</style>\n",
              "<table border=\"1\" class=\"dataframe\">\n",
              "  <thead>\n",
              "    <tr style=\"text-align: right;\">\n",
              "      <th></th>\n",
              "      <th>age</th>\n",
              "      <th>job</th>\n",
              "      <th>marital</th>\n",
              "      <th>education</th>\n",
              "      <th>balance</th>\n",
              "      <th>housing</th>\n",
              "      <th>contact</th>\n",
              "      <th>day</th>\n",
              "      <th>month</th>\n",
              "      <th>duration</th>\n",
              "      <th>campaign</th>\n",
              "      <th>pdays</th>\n",
              "      <th>previous</th>\n",
              "      <th>poutcome</th>\n",
              "      <th>y</th>\n",
              "    </tr>\n",
              "  </thead>\n",
              "  <tbody>\n",
              "    <tr>\n",
              "      <th>0</th>\n",
              "      <td>58</td>\n",
              "      <td>management</td>\n",
              "      <td>married</td>\n",
              "      <td>tertiary</td>\n",
              "      <td>2143</td>\n",
              "      <td>yes</td>\n",
              "      <td>unknown</td>\n",
              "      <td>5</td>\n",
              "      <td>may</td>\n",
              "      <td>261</td>\n",
              "      <td>1</td>\n",
              "      <td>-1</td>\n",
              "      <td>0</td>\n",
              "      <td>unknown</td>\n",
              "      <td>0</td>\n",
              "    </tr>\n",
              "    <tr>\n",
              "      <th>1</th>\n",
              "      <td>44</td>\n",
              "      <td>technician</td>\n",
              "      <td>single</td>\n",
              "      <td>secondary</td>\n",
              "      <td>29</td>\n",
              "      <td>yes</td>\n",
              "      <td>unknown</td>\n",
              "      <td>5</td>\n",
              "      <td>may</td>\n",
              "      <td>151</td>\n",
              "      <td>1</td>\n",
              "      <td>-1</td>\n",
              "      <td>0</td>\n",
              "      <td>unknown</td>\n",
              "      <td>0</td>\n",
              "    </tr>\n",
              "    <tr>\n",
              "      <th>2</th>\n",
              "      <td>33</td>\n",
              "      <td>entrepreneur</td>\n",
              "      <td>married</td>\n",
              "      <td>secondary</td>\n",
              "      <td>2</td>\n",
              "      <td>yes</td>\n",
              "      <td>unknown</td>\n",
              "      <td>5</td>\n",
              "      <td>may</td>\n",
              "      <td>76</td>\n",
              "      <td>1</td>\n",
              "      <td>-1</td>\n",
              "      <td>0</td>\n",
              "      <td>unknown</td>\n",
              "      <td>0</td>\n",
              "    </tr>\n",
              "    <tr>\n",
              "      <th>3</th>\n",
              "      <td>47</td>\n",
              "      <td>blue-collar</td>\n",
              "      <td>married</td>\n",
              "      <td>unknown</td>\n",
              "      <td>1506</td>\n",
              "      <td>yes</td>\n",
              "      <td>unknown</td>\n",
              "      <td>5</td>\n",
              "      <td>may</td>\n",
              "      <td>92</td>\n",
              "      <td>1</td>\n",
              "      <td>-1</td>\n",
              "      <td>0</td>\n",
              "      <td>unknown</td>\n",
              "      <td>0</td>\n",
              "    </tr>\n",
              "    <tr>\n",
              "      <th>4</th>\n",
              "      <td>33</td>\n",
              "      <td>unknown</td>\n",
              "      <td>single</td>\n",
              "      <td>unknown</td>\n",
              "      <td>1</td>\n",
              "      <td>no</td>\n",
              "      <td>unknown</td>\n",
              "      <td>5</td>\n",
              "      <td>may</td>\n",
              "      <td>198</td>\n",
              "      <td>1</td>\n",
              "      <td>-1</td>\n",
              "      <td>0</td>\n",
              "      <td>unknown</td>\n",
              "      <td>0</td>\n",
              "    </tr>\n",
              "    <tr>\n",
              "      <th>...</th>\n",
              "      <td>...</td>\n",
              "      <td>...</td>\n",
              "      <td>...</td>\n",
              "      <td>...</td>\n",
              "      <td>...</td>\n",
              "      <td>...</td>\n",
              "      <td>...</td>\n",
              "      <td>...</td>\n",
              "      <td>...</td>\n",
              "      <td>...</td>\n",
              "      <td>...</td>\n",
              "      <td>...</td>\n",
              "      <td>...</td>\n",
              "      <td>...</td>\n",
              "      <td>...</td>\n",
              "    </tr>\n",
              "    <tr>\n",
              "      <th>45206</th>\n",
              "      <td>51</td>\n",
              "      <td>technician</td>\n",
              "      <td>married</td>\n",
              "      <td>tertiary</td>\n",
              "      <td>825</td>\n",
              "      <td>no</td>\n",
              "      <td>cellular</td>\n",
              "      <td>17</td>\n",
              "      <td>nov</td>\n",
              "      <td>977</td>\n",
              "      <td>3</td>\n",
              "      <td>-1</td>\n",
              "      <td>0</td>\n",
              "      <td>unknown</td>\n",
              "      <td>1</td>\n",
              "    </tr>\n",
              "    <tr>\n",
              "      <th>45207</th>\n",
              "      <td>71</td>\n",
              "      <td>retired</td>\n",
              "      <td>divorced</td>\n",
              "      <td>primary</td>\n",
              "      <td>1729</td>\n",
              "      <td>no</td>\n",
              "      <td>cellular</td>\n",
              "      <td>17</td>\n",
              "      <td>nov</td>\n",
              "      <td>456</td>\n",
              "      <td>2</td>\n",
              "      <td>-1</td>\n",
              "      <td>0</td>\n",
              "      <td>unknown</td>\n",
              "      <td>1</td>\n",
              "    </tr>\n",
              "    <tr>\n",
              "      <th>45208</th>\n",
              "      <td>72</td>\n",
              "      <td>retired</td>\n",
              "      <td>married</td>\n",
              "      <td>secondary</td>\n",
              "      <td>5715</td>\n",
              "      <td>no</td>\n",
              "      <td>cellular</td>\n",
              "      <td>17</td>\n",
              "      <td>nov</td>\n",
              "      <td>1127</td>\n",
              "      <td>5</td>\n",
              "      <td>184</td>\n",
              "      <td>3</td>\n",
              "      <td>success</td>\n",
              "      <td>1</td>\n",
              "    </tr>\n",
              "    <tr>\n",
              "      <th>45209</th>\n",
              "      <td>57</td>\n",
              "      <td>blue-collar</td>\n",
              "      <td>married</td>\n",
              "      <td>secondary</td>\n",
              "      <td>668</td>\n",
              "      <td>no</td>\n",
              "      <td>telephone</td>\n",
              "      <td>17</td>\n",
              "      <td>nov</td>\n",
              "      <td>508</td>\n",
              "      <td>4</td>\n",
              "      <td>-1</td>\n",
              "      <td>0</td>\n",
              "      <td>unknown</td>\n",
              "      <td>0</td>\n",
              "    </tr>\n",
              "    <tr>\n",
              "      <th>45210</th>\n",
              "      <td>37</td>\n",
              "      <td>entrepreneur</td>\n",
              "      <td>married</td>\n",
              "      <td>secondary</td>\n",
              "      <td>2971</td>\n",
              "      <td>no</td>\n",
              "      <td>cellular</td>\n",
              "      <td>17</td>\n",
              "      <td>nov</td>\n",
              "      <td>361</td>\n",
              "      <td>2</td>\n",
              "      <td>188</td>\n",
              "      <td>11</td>\n",
              "      <td>other</td>\n",
              "      <td>0</td>\n",
              "    </tr>\n",
              "  </tbody>\n",
              "</table>\n",
              "<p>45211 rows × 15 columns</p>\n",
              "</div>"
            ],
            "text/plain": [
              "0      age           job   marital  education  balance housing    contact  \\\n",
              "0       58    management   married   tertiary     2143     yes    unknown   \n",
              "1       44    technician    single  secondary       29     yes    unknown   \n",
              "2       33  entrepreneur   married  secondary        2     yes    unknown   \n",
              "3       47   blue-collar   married    unknown     1506     yes    unknown   \n",
              "4       33       unknown    single    unknown        1      no    unknown   \n",
              "...    ...           ...       ...        ...      ...     ...        ...   \n",
              "45206   51    technician   married   tertiary      825      no   cellular   \n",
              "45207   71       retired  divorced    primary     1729      no   cellular   \n",
              "45208   72       retired   married  secondary     5715      no   cellular   \n",
              "45209   57   blue-collar   married  secondary      668      no  telephone   \n",
              "45210   37  entrepreneur   married  secondary     2971      no   cellular   \n",
              "\n",
              "0      day month  duration  campaign  pdays  previous poutcome  y  \n",
              "0        5   may       261         1     -1         0  unknown  0  \n",
              "1        5   may       151         1     -1         0  unknown  0  \n",
              "2        5   may        76         1     -1         0  unknown  0  \n",
              "3        5   may        92         1     -1         0  unknown  0  \n",
              "4        5   may       198         1     -1         0  unknown  0  \n",
              "...    ...   ...       ...       ...    ...       ...      ... ..  \n",
              "45206   17   nov       977         3     -1         0  unknown  1  \n",
              "45207   17   nov       456         2     -1         0  unknown  1  \n",
              "45208   17   nov      1127         5    184         3  success  1  \n",
              "45209   17   nov       508         4     -1         0  unknown  0  \n",
              "45210   17   nov       361         2    188        11    other  0  \n",
              "\n",
              "[45211 rows x 15 columns]"
            ]
          },
          "execution_count": 26,
          "metadata": {},
          "output_type": "execute_result"
        }
      ],
      "source": [
        "new_df"
      ]
    },
    {
      "cell_type": "code",
      "execution_count": null,
      "id": "c88f32a8",
      "metadata": {
        "id": "c88f32a8"
      },
      "outputs": [],
      "source": [
        "from sklearn.model_selection import train_test_split"
      ]
    },
    {
      "cell_type": "code",
      "execution_count": null,
      "id": "88c1d4bf",
      "metadata": {
        "id": "88c1d4bf"
      },
      "outputs": [],
      "source": [
        "full_train, test = train_test_split(new_df, test_size=0.2, random_state=42)"
      ]
    },
    {
      "cell_type": "code",
      "execution_count": null,
      "id": "21db232f",
      "metadata": {
        "id": "21db232f"
      },
      "outputs": [],
      "source": [
        "train, val = train_test_split(full_train, test_size=0.25, random_state=1)"
      ]
    },
    {
      "cell_type": "code",
      "execution_count": null,
      "id": "0a44fe3a",
      "metadata": {
        "id": "0a44fe3a"
      },
      "outputs": [],
      "source": [
        "df_train = train.drop('y',axis=1)\n",
        "y_train = train.y\n",
        "\n",
        "df_val = val.drop('y',axis=1)\n",
        "y_val = val.y\n",
        "\n",
        "df_test = test.drop('y',axis=1)\n",
        "y_test = test.y"
      ]
    },
    {
      "cell_type": "code",
      "execution_count": null,
      "id": "bb153904",
      "metadata": {
        "id": "bb153904",
        "outputId": "75288020-ceb4-455d-ac0b-a0a81b68d370"
      },
      "outputs": [
        {
          "data": {
            "text/plain": [
              "['job', 'marital', 'education', 'housing', 'contact', 'month', 'poutcome']"
            ]
          },
          "execution_count": 31,
          "metadata": {},
          "output_type": "execute_result"
        }
      ],
      "source": [
        "cat_col = list(full_train.dtypes[full_train.dtypes=='object'].index)\n",
        "cat_col"
      ]
    },
    {
      "cell_type": "code",
      "execution_count": null,
      "id": "5a75eeba",
      "metadata": {
        "id": "5a75eeba"
      },
      "outputs": [],
      "source": [
        "from sklearn.metrics import mutual_info_score"
      ]
    },
    {
      "cell_type": "code",
      "execution_count": null,
      "id": "820fdff4",
      "metadata": {
        "id": "820fdff4",
        "outputId": "94130c2f-bfce-4ef8-f13e-6abc78a575e3"
      },
      "outputs": [
        {
          "data": {
            "text/plain": [
              "0.0020189759359465972"
            ]
          },
          "execution_count": 33,
          "metadata": {},
          "output_type": "execute_result"
        }
      ],
      "source": [
        "mutual_info_score(train.marital,train.y)"
      ]
    },
    {
      "cell_type": "code",
      "execution_count": null,
      "id": "86a2c233",
      "metadata": {
        "id": "86a2c233"
      },
      "outputs": [],
      "source": [
        "def mutual_feat_score(series):\n",
        "    return mutual_info_score(series,full_train.y)"
      ]
    },
    {
      "cell_type": "code",
      "execution_count": null,
      "id": "c3a08b98",
      "metadata": {
        "id": "c3a08b98",
        "outputId": "3a7dbbe0-c715-4803-b437-db8a9f2fe08d"
      },
      "outputs": [
        {
          "name": "stdout",
          "output_type": "stream",
          "text": [
            "0\n",
            "poutcome     0.03\n",
            "month        0.02\n",
            "contact      0.01\n",
            "housing      0.01\n",
            "job          0.01\n",
            "education    0.00\n",
            "marital      0.00\n",
            "dtype: float64\n"
          ]
        }
      ],
      "source": [
        "mi = full_train[cat_col].apply(mutual_feat_score)\n",
        "print(round(mi.sort_values(ascending=False),2))"
      ]
    },
    {
      "cell_type": "code",
      "execution_count": null,
      "id": "a15d2a31",
      "metadata": {
        "id": "a15d2a31",
        "outputId": "e5106c4f-5443-4fa2-fb1b-46e194ca8e16"
      },
      "outputs": [
        {
          "data": {
            "text/plain": [
              "(28934, 47)"
            ]
          },
          "execution_count": 37,
          "metadata": {},
          "output_type": "execute_result"
        }
      ],
      "source": [
        "from sklearn.feature_extraction import DictVectorizer\n",
        "\n",
        "train_dicts = df_train[cat_col+numerical_col].to_dict(orient='records')\n",
        "\n",
        "dv = DictVectorizer(sparse=False)\n",
        "\n",
        "X_train = dv.fit_transform(train_dicts)\n",
        "\n",
        "X_train.shape"
      ]
    },
    {
      "cell_type": "code",
      "execution_count": null,
      "id": "291b54e5",
      "metadata": {
        "id": "291b54e5"
      },
      "outputs": [],
      "source": [
        "val_dicts = df_val[cat_col+numerical_col].to_dict(orient='records')\n",
        "\n",
        "X_val = dv.transform(val_dicts)"
      ]
    },
    {
      "cell_type": "code",
      "execution_count": null,
      "id": "22f25a33",
      "metadata": {
        "id": "22f25a33"
      },
      "outputs": [],
      "source": [
        "from sklearn.linear_model import LogisticRegression"
      ]
    },
    {
      "cell_type": "code",
      "execution_count": null,
      "id": "580dec6c",
      "metadata": {
        "id": "580dec6c"
      },
      "outputs": [],
      "source": [
        "model = LogisticRegression(solver='liblinear', C=1.0, max_iter=1000, random_state=42)"
      ]
    },
    {
      "cell_type": "code",
      "execution_count": null,
      "id": "1e7f35b0",
      "metadata": {
        "id": "1e7f35b0",
        "outputId": "66b5f592-6d0d-450f-d1d6-a813d42cebb1"
      },
      "outputs": [
        {
          "data": {
            "text/html": [
              "<style>#sk-container-id-1 {color: black;}#sk-container-id-1 pre{padding: 0;}#sk-container-id-1 div.sk-toggleable {background-color: white;}#sk-container-id-1 label.sk-toggleable__label {cursor: pointer;display: block;width: 100%;margin-bottom: 0;padding: 0.3em;box-sizing: border-box;text-align: center;}#sk-container-id-1 label.sk-toggleable__label-arrow:before {content: \"▸\";float: left;margin-right: 0.25em;color: #696969;}#sk-container-id-1 label.sk-toggleable__label-arrow:hover:before {color: black;}#sk-container-id-1 div.sk-estimator:hover label.sk-toggleable__label-arrow:before {color: black;}#sk-container-id-1 div.sk-toggleable__content {max-height: 0;max-width: 0;overflow: hidden;text-align: left;background-color: #f0f8ff;}#sk-container-id-1 div.sk-toggleable__content pre {margin: 0.2em;color: black;border-radius: 0.25em;background-color: #f0f8ff;}#sk-container-id-1 input.sk-toggleable__control:checked~div.sk-toggleable__content {max-height: 200px;max-width: 100%;overflow: auto;}#sk-container-id-1 input.sk-toggleable__control:checked~label.sk-toggleable__label-arrow:before {content: \"▾\";}#sk-container-id-1 div.sk-estimator input.sk-toggleable__control:checked~label.sk-toggleable__label {background-color: #d4ebff;}#sk-container-id-1 div.sk-label input.sk-toggleable__control:checked~label.sk-toggleable__label {background-color: #d4ebff;}#sk-container-id-1 input.sk-hidden--visually {border: 0;clip: rect(1px 1px 1px 1px);clip: rect(1px, 1px, 1px, 1px);height: 1px;margin: -1px;overflow: hidden;padding: 0;position: absolute;width: 1px;}#sk-container-id-1 div.sk-estimator {font-family: monospace;background-color: #f0f8ff;border: 1px dotted black;border-radius: 0.25em;box-sizing: border-box;margin-bottom: 0.5em;}#sk-container-id-1 div.sk-estimator:hover {background-color: #d4ebff;}#sk-container-id-1 div.sk-parallel-item::after {content: \"\";width: 100%;border-bottom: 1px solid gray;flex-grow: 1;}#sk-container-id-1 div.sk-label:hover label.sk-toggleable__label {background-color: #d4ebff;}#sk-container-id-1 div.sk-serial::before {content: \"\";position: absolute;border-left: 1px solid gray;box-sizing: border-box;top: 0;bottom: 0;left: 50%;z-index: 0;}#sk-container-id-1 div.sk-serial {display: flex;flex-direction: column;align-items: center;background-color: white;padding-right: 0.2em;padding-left: 0.2em;position: relative;}#sk-container-id-1 div.sk-item {position: relative;z-index: 1;}#sk-container-id-1 div.sk-parallel {display: flex;align-items: stretch;justify-content: center;background-color: white;position: relative;}#sk-container-id-1 div.sk-item::before, #sk-container-id-1 div.sk-parallel-item::before {content: \"\";position: absolute;border-left: 1px solid gray;box-sizing: border-box;top: 0;bottom: 0;left: 50%;z-index: -1;}#sk-container-id-1 div.sk-parallel-item {display: flex;flex-direction: column;z-index: 1;position: relative;background-color: white;}#sk-container-id-1 div.sk-parallel-item:first-child::after {align-self: flex-end;width: 50%;}#sk-container-id-1 div.sk-parallel-item:last-child::after {align-self: flex-start;width: 50%;}#sk-container-id-1 div.sk-parallel-item:only-child::after {width: 0;}#sk-container-id-1 div.sk-dashed-wrapped {border: 1px dashed gray;margin: 0 0.4em 0.5em 0.4em;box-sizing: border-box;padding-bottom: 0.4em;background-color: white;}#sk-container-id-1 div.sk-label label {font-family: monospace;font-weight: bold;display: inline-block;line-height: 1.2em;}#sk-container-id-1 div.sk-label-container {text-align: center;}#sk-container-id-1 div.sk-container {/* jupyter's `normalize.less` sets `[hidden] { display: none; }` but bootstrap.min.css set `[hidden] { display: none !important; }` so we also need the `!important` here to be able to override the default hidden behavior on the sphinx rendered scikit-learn.org. See: https://github.com/scikit-learn/scikit-learn/issues/21755 */display: inline-block !important;position: relative;}#sk-container-id-1 div.sk-text-repr-fallback {display: none;}</style><div id=\"sk-container-id-1\" class=\"sk-top-container\"><div class=\"sk-text-repr-fallback\"><pre>LogisticRegression(max_iter=1000, random_state=42, solver=&#x27;liblinear&#x27;)</pre><b>In a Jupyter environment, please rerun this cell to show the HTML representation or trust the notebook. <br />On GitHub, the HTML representation is unable to render, please try loading this page with nbviewer.org.</b></div><div class=\"sk-container\" hidden><div class=\"sk-item\"><div class=\"sk-estimator sk-toggleable\"><input class=\"sk-toggleable__control sk-hidden--visually\" id=\"sk-estimator-id-1\" type=\"checkbox\" checked><label for=\"sk-estimator-id-1\" class=\"sk-toggleable__label sk-toggleable__label-arrow\">LogisticRegression</label><div class=\"sk-toggleable__content\"><pre>LogisticRegression(max_iter=1000, random_state=42, solver=&#x27;liblinear&#x27;)</pre></div></div></div></div></div>"
            ],
            "text/plain": [
              "LogisticRegression(max_iter=1000, random_state=42, solver='liblinear')"
            ]
          },
          "execution_count": 42,
          "metadata": {},
          "output_type": "execute_result"
        }
      ],
      "source": [
        "model.fit(X_train,y_train)"
      ]
    },
    {
      "cell_type": "code",
      "execution_count": null,
      "id": "f4d8e2f2",
      "metadata": {
        "id": "f4d8e2f2"
      },
      "outputs": [],
      "source": [
        "y_pred = model.predict(X_val)"
      ]
    },
    {
      "cell_type": "code",
      "execution_count": null,
      "id": "b8214715",
      "metadata": {
        "id": "b8214715"
      },
      "outputs": [],
      "source": [
        "from sklearn.metrics import accuracy_score"
      ]
    },
    {
      "cell_type": "code",
      "execution_count": null,
      "id": "085c0caf",
      "metadata": {
        "id": "085c0caf",
        "outputId": "12d1db60-40b1-4d35-e953-1aa735c0753d"
      },
      "outputs": [
        {
          "data": {
            "text/plain": [
              "0.9012994194083495"
            ]
          },
          "execution_count": 45,
          "metadata": {},
          "output_type": "execute_result"
        }
      ],
      "source": [
        "accuracy_score(y_val, y_pred)"
      ]
    },
    {
      "cell_type": "code",
      "execution_count": null,
      "id": "e5420890",
      "metadata": {
        "id": "e5420890"
      },
      "outputs": [],
      "source": [
        "def train_log_reg(column):\n",
        "    train_dicts = df_train.drop(column,axis=1).to_dict(orient='records')\n",
        "\n",
        "    dv = DictVectorizer(sparse=False)\n",
        "    X_train = dv.fit_transform(train_dicts)\n",
        "\n",
        "    val_dicts = df_val.drop(column,axis=1).to_dict(orient='records')\n",
        "    X_val = dv.transform(val_dicts)\n",
        "\n",
        "    model = LogisticRegression(solver='liblinear', C=1.0, max_iter=1000, random_state=42)\n",
        "    model.fit(X_train,y_train)\n",
        "\n",
        "    y_pred = model.predict(X_val)\n",
        "    score = accuracy_score(y_val, y_pred)\n",
        "    print('Dropped column: %s, Accuracy score: %s' %(column, score))"
      ]
    },
    {
      "cell_type": "code",
      "execution_count": null,
      "id": "f6528893",
      "metadata": {
        "id": "f6528893",
        "outputId": "a9bc3b85-c159-45c5-dd33-47d59caa8808"
      },
      "outputs": [
        {
          "name": "stdout",
          "output_type": "stream",
          "text": [
            "Dropped column: age, Accuracy score: 0.9017141277301631\n"
          ]
        }
      ],
      "source": [
        "train_log_reg('age')"
      ]
    },
    {
      "cell_type": "code",
      "execution_count": null,
      "id": "43c35e1d",
      "metadata": {
        "id": "43c35e1d",
        "outputId": "72d1eb76-fbd6-4ff5-eb9c-4b9ccbfaee2a"
      },
      "outputs": [
        {
          "name": "stdout",
          "output_type": "stream",
          "text": [
            "Dropped column: balance, Accuracy score: 0.901022947193807\n"
          ]
        }
      ],
      "source": [
        "train_log_reg('balance')"
      ]
    },
    {
      "cell_type": "code",
      "execution_count": null,
      "id": "f64a83da",
      "metadata": {
        "id": "f64a83da",
        "outputId": "4861ec1e-909d-472e-b5ed-0f38c123fd52"
      },
      "outputs": [
        {
          "name": "stdout",
          "output_type": "stream",
          "text": [
            "Dropped column: marital, Accuracy score: 0.9015758916228919\n"
          ]
        }
      ],
      "source": [
        "train_log_reg('marital')"
      ]
    },
    {
      "cell_type": "code",
      "execution_count": null,
      "id": "5397d8b7",
      "metadata": {
        "id": "5397d8b7",
        "outputId": "aa2d1905-87aa-43ec-de16-71b255917b98"
      },
      "outputs": [
        {
          "name": "stdout",
          "output_type": "stream",
          "text": [
            "Dropped column: previous, Accuracy score: 0.9012994194083495\n"
          ]
        }
      ],
      "source": [
        "train_log_reg('previous')"
      ]
    },
    {
      "cell_type": "code",
      "execution_count": null,
      "id": "a34352cc",
      "metadata": {
        "id": "a34352cc"
      },
      "outputs": [],
      "source": [
        "train_dicts = df_train.to_dict(orient='records')\n",
        "\n",
        "dv = DictVectorizer(sparse=False)\n",
        "X_train = dv.fit_transform(train_dicts)\n",
        "\n",
        "val_dicts = df_val.to_dict(orient='records')\n",
        "X_val = dv.transform(val_dicts)"
      ]
    },
    {
      "cell_type": "code",
      "execution_count": null,
      "id": "78e7bf09",
      "metadata": {
        "id": "78e7bf09",
        "outputId": "9020a11b-cfe0-493b-e13e-687013acc2e1"
      },
      "outputs": [
        {
          "name": "stdout",
          "output_type": "stream",
          "text": [
            "C: 0.01, Score: 0.8989494055847387\n",
            "C: 0.1, Score: 0.9011611833010782\n",
            "C: 1, Score: 0.9012994194083495\n",
            "C: 10, Score: 0.901022947193807\n",
            "C: 100, Score: 0.9011611833010782\n"
          ]
        }
      ],
      "source": [
        "for c in [0.01, 0.1, 1, 10,100]:\n",
        "    model = LogisticRegression(solver='liblinear', C=c, max_iter=1000, random_state=42)\n",
        "    model.fit(X_train,y_train)\n",
        "\n",
        "    y_pred = model.predict(X_val)\n",
        "    score = accuracy_score(y_val, y_pred)\n",
        "    print(f'C: {c}, Score: {score}')"
      ]
    }
  ],
  "metadata": {
    "kernelspec": {
      "display_name": "Python 3 (ipykernel)",
      "language": "python",
      "name": "python3"
    },
    "language_info": {
      "codemirror_mode": {
        "name": "ipython",
        "version": 3
      },
      "file_extension": ".py",
      "mimetype": "text/x-python",
      "name": "python",
      "nbconvert_exporter": "python",
      "pygments_lexer": "ipython3",
      "version": "3.10.13"
    },
    "colab": {
      "provenance": []
    }
  },
  "nbformat": 4,
  "nbformat_minor": 5
}