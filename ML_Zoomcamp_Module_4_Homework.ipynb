{
  "cells": [
    {
      "cell_type": "code",
      "execution_count": null,
      "id": "27a18362-0ff2-4f93-9d7b-57f1a38e3d78",
      "metadata": {
        "id": "27a18362-0ff2-4f93-9d7b-57f1a38e3d78"
      },
      "outputs": [],
      "source": [
        "import numpy as np\n",
        "import pandas as pd\n",
        "import matplotlib.pyplot as plt\n",
        "import seaborn as sns\n",
        "\n",
        "%matplotlib inline"
      ]
    },
    {
      "cell_type": "markdown",
      "source": [
        "In this homework, we will use the Bank Marketing dataset. Download it from here.\n",
        "\n",
        "You can do it with wget:\n",
        "\n",
        "wget https://archive.ics.uci.edu/static/public/222/bank+marketing.zip\n",
        "unzip bank+marketing.zip\n",
        "unzip bank.zip\n",
        "We need bank-full.csv.\n",
        "\n",
        "In this dataset the target variable is y variable - has the client subscribed a term deposit or not."
      ],
      "metadata": {
        "id": "nwe0HGMTClB0"
      },
      "id": "nwe0HGMTClB0"
    },
    {
      "cell_type": "code",
      "execution_count": null,
      "id": "f891c5dd-eeff-4370-a4d4-b48a8fbc831c",
      "metadata": {
        "id": "f891c5dd-eeff-4370-a4d4-b48a8fbc831c"
      },
      "outputs": [],
      "source": [
        "df = pd.read_csv('bank-full.csv', sep=';')"
      ]
    },
    {
      "cell_type": "code",
      "execution_count": null,
      "id": "c672852b-9b98-4183-a520-158635900225",
      "metadata": {
        "id": "c672852b-9b98-4183-a520-158635900225",
        "outputId": "8abee334-f0b0-49fd-ddf7-635f4ddce5f9"
      },
      "outputs": [
        {
          "data": {
            "text/html": [
              "<div>\n",
              "<style scoped>\n",
              "    .dataframe tbody tr th:only-of-type {\n",
              "        vertical-align: middle;\n",
              "    }\n",
              "\n",
              "    .dataframe tbody tr th {\n",
              "        vertical-align: top;\n",
              "    }\n",
              "\n",
              "    .dataframe thead th {\n",
              "        text-align: right;\n",
              "    }\n",
              "</style>\n",
              "<table border=\"1\" class=\"dataframe\">\n",
              "  <thead>\n",
              "    <tr style=\"text-align: right;\">\n",
              "      <th></th>\n",
              "      <th>age</th>\n",
              "      <th>job</th>\n",
              "      <th>marital</th>\n",
              "      <th>education</th>\n",
              "      <th>default</th>\n",
              "      <th>balance</th>\n",
              "      <th>housing</th>\n",
              "      <th>loan</th>\n",
              "      <th>contact</th>\n",
              "      <th>day</th>\n",
              "      <th>month</th>\n",
              "      <th>duration</th>\n",
              "      <th>campaign</th>\n",
              "      <th>pdays</th>\n",
              "      <th>previous</th>\n",
              "      <th>poutcome</th>\n",
              "      <th>y</th>\n",
              "    </tr>\n",
              "  </thead>\n",
              "  <tbody>\n",
              "    <tr>\n",
              "      <th>0</th>\n",
              "      <td>58</td>\n",
              "      <td>management</td>\n",
              "      <td>married</td>\n",
              "      <td>tertiary</td>\n",
              "      <td>no</td>\n",
              "      <td>2143</td>\n",
              "      <td>yes</td>\n",
              "      <td>no</td>\n",
              "      <td>unknown</td>\n",
              "      <td>5</td>\n",
              "      <td>may</td>\n",
              "      <td>261</td>\n",
              "      <td>1</td>\n",
              "      <td>-1</td>\n",
              "      <td>0</td>\n",
              "      <td>unknown</td>\n",
              "      <td>no</td>\n",
              "    </tr>\n",
              "    <tr>\n",
              "      <th>1</th>\n",
              "      <td>44</td>\n",
              "      <td>technician</td>\n",
              "      <td>single</td>\n",
              "      <td>secondary</td>\n",
              "      <td>no</td>\n",
              "      <td>29</td>\n",
              "      <td>yes</td>\n",
              "      <td>no</td>\n",
              "      <td>unknown</td>\n",
              "      <td>5</td>\n",
              "      <td>may</td>\n",
              "      <td>151</td>\n",
              "      <td>1</td>\n",
              "      <td>-1</td>\n",
              "      <td>0</td>\n",
              "      <td>unknown</td>\n",
              "      <td>no</td>\n",
              "    </tr>\n",
              "    <tr>\n",
              "      <th>2</th>\n",
              "      <td>33</td>\n",
              "      <td>entrepreneur</td>\n",
              "      <td>married</td>\n",
              "      <td>secondary</td>\n",
              "      <td>no</td>\n",
              "      <td>2</td>\n",
              "      <td>yes</td>\n",
              "      <td>yes</td>\n",
              "      <td>unknown</td>\n",
              "      <td>5</td>\n",
              "      <td>may</td>\n",
              "      <td>76</td>\n",
              "      <td>1</td>\n",
              "      <td>-1</td>\n",
              "      <td>0</td>\n",
              "      <td>unknown</td>\n",
              "      <td>no</td>\n",
              "    </tr>\n",
              "    <tr>\n",
              "      <th>3</th>\n",
              "      <td>47</td>\n",
              "      <td>blue-collar</td>\n",
              "      <td>married</td>\n",
              "      <td>unknown</td>\n",
              "      <td>no</td>\n",
              "      <td>1506</td>\n",
              "      <td>yes</td>\n",
              "      <td>no</td>\n",
              "      <td>unknown</td>\n",
              "      <td>5</td>\n",
              "      <td>may</td>\n",
              "      <td>92</td>\n",
              "      <td>1</td>\n",
              "      <td>-1</td>\n",
              "      <td>0</td>\n",
              "      <td>unknown</td>\n",
              "      <td>no</td>\n",
              "    </tr>\n",
              "    <tr>\n",
              "      <th>4</th>\n",
              "      <td>33</td>\n",
              "      <td>unknown</td>\n",
              "      <td>single</td>\n",
              "      <td>unknown</td>\n",
              "      <td>no</td>\n",
              "      <td>1</td>\n",
              "      <td>no</td>\n",
              "      <td>no</td>\n",
              "      <td>unknown</td>\n",
              "      <td>5</td>\n",
              "      <td>may</td>\n",
              "      <td>198</td>\n",
              "      <td>1</td>\n",
              "      <td>-1</td>\n",
              "      <td>0</td>\n",
              "      <td>unknown</td>\n",
              "      <td>no</td>\n",
              "    </tr>\n",
              "  </tbody>\n",
              "</table>\n",
              "</div>"
            ],
            "text/plain": [
              "   age           job  marital  education default  balance housing loan  \\\n",
              "0   58    management  married   tertiary      no     2143     yes   no   \n",
              "1   44    technician   single  secondary      no       29     yes   no   \n",
              "2   33  entrepreneur  married  secondary      no        2     yes  yes   \n",
              "3   47   blue-collar  married    unknown      no     1506     yes   no   \n",
              "4   33       unknown   single    unknown      no        1      no   no   \n",
              "\n",
              "   contact  day month  duration  campaign  pdays  previous poutcome   y  \n",
              "0  unknown    5   may       261         1     -1         0  unknown  no  \n",
              "1  unknown    5   may       151         1     -1         0  unknown  no  \n",
              "2  unknown    5   may        76         1     -1         0  unknown  no  \n",
              "3  unknown    5   may        92         1     -1         0  unknown  no  \n",
              "4  unknown    5   may       198         1     -1         0  unknown  no  "
            ]
          },
          "execution_count": 26,
          "metadata": {},
          "output_type": "execute_result"
        }
      ],
      "source": [
        "df.head()"
      ]
    },
    {
      "cell_type": "markdown",
      "source": [
        "Dataset preparation\n",
        "\n",
        "For the rest of the homework, you'll need to use only these columns:\n",
        "\n",
        "* 'age',\n",
        "* 'job',\n",
        "* 'marital',\n",
        "* 'education',\n",
        "* 'balance',\n",
        "* 'housing',\n",
        "* 'contact',\n",
        "* 'day',\n",
        "* 'month',\n",
        "* 'duration',\n",
        "* 'campaign',\n",
        "* 'pdays',\n",
        "* 'previous',\n",
        "* 'poutcome',\n",
        "* 'y'\n",
        "\n",
        "Split the data into 3 parts: train/validation/test with 60%/20%/20% distribution. Use train_test_split function for that with random_state=1"
      ],
      "metadata": {
        "id": "Vj699jYYC1bw"
      },
      "id": "Vj699jYYC1bw"
    },
    {
      "cell_type": "code",
      "execution_count": null,
      "id": "fa678184-1f10-480e-a49c-11c81353097a",
      "metadata": {
        "id": "fa678184-1f10-480e-a49c-11c81353097a"
      },
      "outputs": [],
      "source": [
        "columns = ['age','job','marital','education','balance','housing','contact','day','month','duration','campaign','pdays','previous','poutcome','y']\n",
        "\n",
        "new_df = df[columns]"
      ]
    },
    {
      "cell_type": "code",
      "execution_count": null,
      "id": "01314e51-b7cc-46c5-afb1-267da7c6da9d",
      "metadata": {
        "id": "01314e51-b7cc-46c5-afb1-267da7c6da9d"
      },
      "outputs": [],
      "source": [
        "numerical = ['age', 'balance', 'day', 'duration', 'campaign', 'pdays', 'previous']"
      ]
    },
    {
      "cell_type": "code",
      "execution_count": null,
      "id": "f245236c-5007-4f35-bfc9-5fab84642288",
      "metadata": {
        "scrolled": true,
        "id": "f245236c-5007-4f35-bfc9-5fab84642288"
      },
      "outputs": [],
      "source": [
        "new_df.loc[:, numerical] = new_df[numerical].astype('int')"
      ]
    },
    {
      "cell_type": "code",
      "execution_count": null,
      "id": "c133886b-f62d-4aae-8328-4296aa5ed414",
      "metadata": {
        "id": "c133886b-f62d-4aae-8328-4296aa5ed414"
      },
      "outputs": [],
      "source": [
        "new_df.y = new_df['y'].map({'yes': 1, 'no': 0})"
      ]
    },
    {
      "cell_type": "code",
      "execution_count": null,
      "id": "99d042d7-9c10-40cd-93be-92226314cbc1",
      "metadata": {
        "id": "99d042d7-9c10-40cd-93be-92226314cbc1"
      },
      "outputs": [],
      "source": [
        "from sklearn.model_selection import train_test_split\n",
        "\n",
        "full_train, test = train_test_split(new_df, test_size=0.2, random_state=1)\n",
        "train, val = train_test_split(full_train, test_size=0.25, random_state=1)"
      ]
    },
    {
      "cell_type": "markdown",
      "source": [
        "**Question 1: ROC AUC feature importance**\n",
        "\n",
        "ROC AUC could also be used to evaluate feature importance of numerical variables.\n",
        "\n",
        "Let's do that\n",
        "\n",
        "For each numerical variable, use it as score and compute AUC with the y variable\n",
        "Use the training dataset for that\n",
        "If your AUC is < 0.5, invert this variable by putting \"-\" in front\n",
        "\n",
        "(e.g. -df_train['engine_hp'])\n",
        "\n",
        "AUC can go below 0.5 if the variable is negatively correlated with the target variable. You can change the direction of the correlation by negating this variable - then negative correlation becomes positive.\n",
        "\n",
        "Which numerical variable (among the following 4) has the highest AUC?\n",
        "\n",
        "* balance\n",
        "* day\n",
        "* duration\n",
        "* previous"
      ],
      "metadata": {
        "id": "BYkdQZYYDaeR"
      },
      "id": "BYkdQZYYDaeR"
    },
    {
      "cell_type": "code",
      "execution_count": null,
      "id": "f8e99c6b-8bd9-49c1-83bb-71061cb90538",
      "metadata": {
        "id": "f8e99c6b-8bd9-49c1-83bb-71061cb90538"
      },
      "outputs": [],
      "source": [
        "from sklearn.metrics import roc_auc_score\n",
        "\n",
        "# Assuming df_train contains the training data and 'y' is the target variable\n",
        "numerical_vars = ['age','balance', 'day', 'duration', 'campaign','pdays','previous']\n",
        "\n",
        "auc_scores = {}\n",
        "\n",
        "# Calculate AUC for each variable\n",
        "for var in numerical_vars:\n",
        "    score = train[var]\n",
        "    auc = roc_auc_score(train['y'], score)\n",
        "\n",
        "    # If AUC is less than 0.5, invert the variable\n",
        "    if auc < 0.5:\n",
        "        auc = roc_auc_score(train['y'], -score)\n",
        "\n",
        "    auc_scores[var] = auc"
      ]
    },
    {
      "cell_type": "code",
      "execution_count": null,
      "id": "c1a1e5c1-df1b-4cd6-9673-6a023945cb3e",
      "metadata": {
        "id": "c1a1e5c1-df1b-4cd6-9673-6a023945cb3e",
        "outputId": "9ab31b2e-38f9-455c-db09-e49aa8731320"
      },
      "outputs": [
        {
          "name": "stdout",
          "output_type": "stream",
          "text": [
            "Variable with highest AUC: duration (AUC = 0.8147002759670778)\n"
          ]
        }
      ],
      "source": [
        "max_auc_variable = max(auc_scores, key=auc_scores.get)\n",
        "max_auc_value = auc_scores[max_auc_variable]\n",
        "\n",
        "print(f\"Variable with highest AUC: {max_auc_variable} (AUC = {max_auc_value})\")"
      ]
    },
    {
      "cell_type": "markdown",
      "source": [
        "**Question 2: Training the model**\n",
        "Apply one-hot-encoding using DictVectorizer and train the logistic regression with these parameters:\n",
        "\n",
        "LogisticRegression(solver='liblinear', C=1.0, max_iter=1000)\n",
        "What's the AUC of this model on the validation dataset? (round to 3 digits)\n",
        "\n",
        "* 0.69\n",
        "*0.79\n",
        "*0.89\n",
        "*0.99"
      ],
      "metadata": {
        "id": "5KQa19i8DuhZ"
      },
      "id": "5KQa19i8DuhZ"
    },
    {
      "cell_type": "code",
      "execution_count": null,
      "id": "b456931d",
      "metadata": {
        "id": "b456931d"
      },
      "outputs": [],
      "source": [
        "df_train = train.drop('y', axis=1)\n",
        "y_train = train.y.values\n",
        "\n",
        "df_val = val.drop('y', axis=1)\n",
        "y_val = val.y.values\n",
        "\n",
        "df_test = test.drop('y', axis=1)\n",
        "y_test = test.y.values"
      ]
    },
    {
      "cell_type": "code",
      "execution_count": null,
      "id": "001ad989-bb56-4175-a59a-302f4936b472",
      "metadata": {
        "id": "001ad989-bb56-4175-a59a-302f4936b472"
      },
      "outputs": [],
      "source": [
        "from sklearn.feature_extraction import DictVectorizer\n",
        "dv = DictVectorizer(sparse=False)"
      ]
    },
    {
      "cell_type": "code",
      "execution_count": null,
      "id": "2f3058a0-52b5-4faf-b62e-1e1fc3e7eb20",
      "metadata": {
        "id": "2f3058a0-52b5-4faf-b62e-1e1fc3e7eb20"
      },
      "outputs": [],
      "source": [
        "train_dict = df_train.to_dict(orient='records')\n",
        "\n",
        "X_train = dv.fit_transform(train_dict)"
      ]
    },
    {
      "cell_type": "code",
      "execution_count": null,
      "id": "c58f0010-dc35-49f1-863f-3d8356d9bee5",
      "metadata": {
        "id": "c58f0010-dc35-49f1-863f-3d8356d9bee5",
        "outputId": "2d728d89-d057-4bf0-97f9-3dd59285c9d8"
      },
      "outputs": [
        {
          "data": {
            "text/html": [
              "<style>#sk-container-id-1 {color: black;}#sk-container-id-1 pre{padding: 0;}#sk-container-id-1 div.sk-toggleable {background-color: white;}#sk-container-id-1 label.sk-toggleable__label {cursor: pointer;display: block;width: 100%;margin-bottom: 0;padding: 0.3em;box-sizing: border-box;text-align: center;}#sk-container-id-1 label.sk-toggleable__label-arrow:before {content: \"▸\";float: left;margin-right: 0.25em;color: #696969;}#sk-container-id-1 label.sk-toggleable__label-arrow:hover:before {color: black;}#sk-container-id-1 div.sk-estimator:hover label.sk-toggleable__label-arrow:before {color: black;}#sk-container-id-1 div.sk-toggleable__content {max-height: 0;max-width: 0;overflow: hidden;text-align: left;background-color: #f0f8ff;}#sk-container-id-1 div.sk-toggleable__content pre {margin: 0.2em;color: black;border-radius: 0.25em;background-color: #f0f8ff;}#sk-container-id-1 input.sk-toggleable__control:checked~div.sk-toggleable__content {max-height: 200px;max-width: 100%;overflow: auto;}#sk-container-id-1 input.sk-toggleable__control:checked~label.sk-toggleable__label-arrow:before {content: \"▾\";}#sk-container-id-1 div.sk-estimator input.sk-toggleable__control:checked~label.sk-toggleable__label {background-color: #d4ebff;}#sk-container-id-1 div.sk-label input.sk-toggleable__control:checked~label.sk-toggleable__label {background-color: #d4ebff;}#sk-container-id-1 input.sk-hidden--visually {border: 0;clip: rect(1px 1px 1px 1px);clip: rect(1px, 1px, 1px, 1px);height: 1px;margin: -1px;overflow: hidden;padding: 0;position: absolute;width: 1px;}#sk-container-id-1 div.sk-estimator {font-family: monospace;background-color: #f0f8ff;border: 1px dotted black;border-radius: 0.25em;box-sizing: border-box;margin-bottom: 0.5em;}#sk-container-id-1 div.sk-estimator:hover {background-color: #d4ebff;}#sk-container-id-1 div.sk-parallel-item::after {content: \"\";width: 100%;border-bottom: 1px solid gray;flex-grow: 1;}#sk-container-id-1 div.sk-label:hover label.sk-toggleable__label {background-color: #d4ebff;}#sk-container-id-1 div.sk-serial::before {content: \"\";position: absolute;border-left: 1px solid gray;box-sizing: border-box;top: 0;bottom: 0;left: 50%;z-index: 0;}#sk-container-id-1 div.sk-serial {display: flex;flex-direction: column;align-items: center;background-color: white;padding-right: 0.2em;padding-left: 0.2em;position: relative;}#sk-container-id-1 div.sk-item {position: relative;z-index: 1;}#sk-container-id-1 div.sk-parallel {display: flex;align-items: stretch;justify-content: center;background-color: white;position: relative;}#sk-container-id-1 div.sk-item::before, #sk-container-id-1 div.sk-parallel-item::before {content: \"\";position: absolute;border-left: 1px solid gray;box-sizing: border-box;top: 0;bottom: 0;left: 50%;z-index: -1;}#sk-container-id-1 div.sk-parallel-item {display: flex;flex-direction: column;z-index: 1;position: relative;background-color: white;}#sk-container-id-1 div.sk-parallel-item:first-child::after {align-self: flex-end;width: 50%;}#sk-container-id-1 div.sk-parallel-item:last-child::after {align-self: flex-start;width: 50%;}#sk-container-id-1 div.sk-parallel-item:only-child::after {width: 0;}#sk-container-id-1 div.sk-dashed-wrapped {border: 1px dashed gray;margin: 0 0.4em 0.5em 0.4em;box-sizing: border-box;padding-bottom: 0.4em;background-color: white;}#sk-container-id-1 div.sk-label label {font-family: monospace;font-weight: bold;display: inline-block;line-height: 1.2em;}#sk-container-id-1 div.sk-label-container {text-align: center;}#sk-container-id-1 div.sk-container {/* jupyter's `normalize.less` sets `[hidden] { display: none; }` but bootstrap.min.css set `[hidden] { display: none !important; }` so we also need the `!important` here to be able to override the default hidden behavior on the sphinx rendered scikit-learn.org. See: https://github.com/scikit-learn/scikit-learn/issues/21755 */display: inline-block !important;position: relative;}#sk-container-id-1 div.sk-text-repr-fallback {display: none;}</style><div id=\"sk-container-id-1\" class=\"sk-top-container\"><div class=\"sk-text-repr-fallback\"><pre>LogisticRegression(max_iter=1000, solver=&#x27;liblinear&#x27;)</pre><b>In a Jupyter environment, please rerun this cell to show the HTML representation or trust the notebook. <br />On GitHub, the HTML representation is unable to render, please try loading this page with nbviewer.org.</b></div><div class=\"sk-container\" hidden><div class=\"sk-item\"><div class=\"sk-estimator sk-toggleable\"><input class=\"sk-toggleable__control sk-hidden--visually\" id=\"sk-estimator-id-1\" type=\"checkbox\" checked><label for=\"sk-estimator-id-1\" class=\"sk-toggleable__label sk-toggleable__label-arrow\">LogisticRegression</label><div class=\"sk-toggleable__content\"><pre>LogisticRegression(max_iter=1000, solver=&#x27;liblinear&#x27;)</pre></div></div></div></div></div>"
            ],
            "text/plain": [
              "LogisticRegression(max_iter=1000, solver='liblinear')"
            ]
          },
          "execution_count": 62,
          "metadata": {},
          "output_type": "execute_result"
        }
      ],
      "source": [
        "from sklearn.linear_model import LogisticRegression\n",
        "\n",
        "model = LogisticRegression(solver='liblinear', C=1.0, max_iter=1000)\n",
        "\n",
        "model.fit(X_train, y_train)"
      ]
    },
    {
      "cell_type": "code",
      "execution_count": null,
      "id": "3db8156f-8e3a-434a-9995-9c198d36ffd4",
      "metadata": {
        "id": "3db8156f-8e3a-434a-9995-9c198d36ffd4",
        "outputId": "ffe0b6ae-fb87-42d3-864f-b6e61774b849"
      },
      "outputs": [
        {
          "name": "stdout",
          "output_type": "stream",
          "text": [
            "AUC Score:  0.9\n"
          ]
        }
      ],
      "source": [
        "dict = df_val.to_dict(orient='records')\n",
        "\n",
        "X_val = dv.transform(dict)\n",
        "\n",
        "y_pred = model.predict_proba(X_val)[0:,1]\n",
        "\n",
        "print('AUC Score: ',round(roc_auc_score(y_val, y_pred),2))"
      ]
    },
    {
      "cell_type": "markdown",
      "source": [
        "**Question 3: Precision and Recall**\n",
        "\n",
        "Now let's compute precision and recall for our model.\n",
        "\n",
        "Evaluate the model on all thresholds from 0.0 to 1.0 with step 0.01\n",
        "For each threshold, compute precision and recall\n",
        "Plot them\n",
        "At which threshold precision and recall curves intersect?\n",
        "\n",
        "* 0.265\n",
        "* 0.465\n",
        "* 0.665\n",
        "* 0.865"
      ],
      "metadata": {
        "id": "5rA2NMibD7fR"
      },
      "id": "5rA2NMibD7fR"
    },
    {
      "cell_type": "code",
      "execution_count": null,
      "id": "44c65fa3-8f23-4153-abb9-d61ea0107678",
      "metadata": {
        "id": "44c65fa3-8f23-4153-abb9-d61ea0107678",
        "outputId": "a7cb0328-dd80-45dd-f866-56006991d11f"
      },
      "outputs": [
        {
          "data": {
            "text/html": [
              "<div>\n",
              "<style scoped>\n",
              "    .dataframe tbody tr th:only-of-type {\n",
              "        vertical-align: middle;\n",
              "    }\n",
              "\n",
              "    .dataframe tbody tr th {\n",
              "        vertical-align: top;\n",
              "    }\n",
              "\n",
              "    .dataframe thead th {\n",
              "        text-align: right;\n",
              "    }\n",
              "</style>\n",
              "<table border=\"1\" class=\"dataframe\">\n",
              "  <thead>\n",
              "    <tr style=\"text-align: right;\">\n",
              "      <th></th>\n",
              "      <th>t</th>\n",
              "      <th>precision</th>\n",
              "      <th>recall</th>\n",
              "    </tr>\n",
              "  </thead>\n",
              "  <tbody>\n",
              "    <tr>\n",
              "      <th>0</th>\n",
              "      <td>0.00</td>\n",
              "      <td>0.121433</td>\n",
              "      <td>1.000000</td>\n",
              "    </tr>\n",
              "    <tr>\n",
              "      <th>1</th>\n",
              "      <td>0.01</td>\n",
              "      <td>0.135480</td>\n",
              "      <td>0.996357</td>\n",
              "    </tr>\n",
              "    <tr>\n",
              "      <th>2</th>\n",
              "      <td>0.02</td>\n",
              "      <td>0.159121</td>\n",
              "      <td>0.995446</td>\n",
              "    </tr>\n",
              "    <tr>\n",
              "      <th>3</th>\n",
              "      <td>0.03</td>\n",
              "      <td>0.186963</td>\n",
              "      <td>0.989982</td>\n",
              "    </tr>\n",
              "    <tr>\n",
              "      <th>4</th>\n",
              "      <td>0.04</td>\n",
              "      <td>0.219020</td>\n",
              "      <td>0.969035</td>\n",
              "    </tr>\n",
              "  </tbody>\n",
              "</table>\n",
              "</div>"
            ],
            "text/plain": [
              "      t  precision    recall\n",
              "0  0.00   0.121433  1.000000\n",
              "1  0.01   0.135480  0.996357\n",
              "2  0.02   0.159121  0.995446\n",
              "3  0.03   0.186963  0.989982\n",
              "4  0.04   0.219020  0.969035"
            ]
          },
          "execution_count": 69,
          "metadata": {},
          "output_type": "execute_result"
        }
      ],
      "source": [
        "from sklearn.metrics import precision_score,recall_score\n",
        "\n",
        "target = y_pred >=0.5\n",
        "precision = precision_score(y_val, target)\n",
        "\n",
        "scores = []\n",
        "\n",
        "for t in np.linspace(0, 1, 101):\n",
        "    target = y_pred >=t\n",
        "    precision = precision_score(y_val, target)\n",
        "    recall = recall_score(y_val, target)\n",
        "    scores.append((t, precision, recall))\n",
        "\n",
        "columns = ['t', 'precision', 'recall']\n",
        "df_pre_rec = pd.DataFrame(scores, columns=columns)\n",
        "df_pre_rec.head()"
      ]
    },
    {
      "cell_type": "code",
      "execution_count": null,
      "id": "7405f7e7-cae1-4d85-9ebc-781697239b28",
      "metadata": {
        "id": "7405f7e7-cae1-4d85-9ebc-781697239b28",
        "outputId": "3d4560e1-1c06-4deb-ffec-00576b44bdf3"
      },
      "outputs": [
        {
          "data": {
            "text/plain": [
              "<matplotlib.legend.Legend at 0x250d729d110>"
            ]
          },
          "execution_count": 70,
          "metadata": {},
          "output_type": "execute_result"
        },
        {
          "data": {
            "image/png": "[encoded data removed]",
            "text/plain": [
              "<Figure size 640x480 with 1 Axes>"
            ]
          },
          "metadata": {},
          "output_type": "display_data"
        }
      ],
      "source": [
        "plt.plot(df_pre_rec.t, df_pre_rec.precision, label='Precision')\n",
        "plt.plot(df_pre_rec.t, df_pre_rec.recall, label='Recall')\n",
        "plt.legend()"
      ]
    },
    {
      "cell_type": "markdown",
      "source": [
        "**Question 4: F1 score**\n",
        "\n",
        "Precision and recall are conflicting - when one grows, the other goes down. That's why they are often combined into the F1 score - a metrics that takes into account both\n",
        "\n",
        "Let's compute F1 for all thresholds from 0.0 to 1.0 with increment 0.01\n",
        "\n",
        "At which threshold F1 is maximal?\n",
        "\n",
        "* 0.02\n",
        "*0.22\n",
        "*0.42\n",
        "*0.62"
      ],
      "metadata": {
        "id": "pSj9548HEJ7o"
      },
      "id": "pSj9548HEJ7o"
    },
    {
      "cell_type": "code",
      "execution_count": null,
      "id": "10a19698-bd7b-4efd-b167-54d29737f54e",
      "metadata": {
        "id": "10a19698-bd7b-4efd-b167-54d29737f54e"
      },
      "outputs": [],
      "source": [
        "def f1score(pr, rc):\n",
        "    f1 = (2 * pr * rc)/(pr + rc)\n",
        "    return f1"
      ]
    },
    {
      "cell_type": "code",
      "execution_count": null,
      "id": "8b83e978",
      "metadata": {
        "id": "8b83e978"
      },
      "outputs": [],
      "source": [
        "df_pre_rec['f1score'] = f1score(df_pre_rec.precision, df_pre_rec.recall)"
      ]
    },
    {
      "cell_type": "code",
      "execution_count": null,
      "id": "6781a6b0",
      "metadata": {
        "id": "6781a6b0",
        "outputId": "c1a2f1d2-19d5-4751-f97b-ddaaf97569bf"
      },
      "outputs": [
        {
          "name": "stdout",
          "output_type": "stream",
          "text": [
            "Threshold: 0.22, F1Score: 0.5740508969545266\n"
          ]
        }
      ],
      "source": [
        "max_f1score_row = df_pre_rec.loc[df_pre_rec['f1score'].idxmax()]\n",
        "\n",
        "print('Threshold: %s, F1Score: %s'%(max_f1score_row['t'], max_f1score_row['f1score']))"
      ]
    },
    {
      "cell_type": "markdown",
      "source": [
        "**Question 5: 5-Fold CV**\n",
        "\n",
        "Use the KFold class from Scikit-Learn to evaluate our model on 5 different folds:\n",
        "\n",
        "KFold(n_splits=5, shuffle=True, random_state=1)\n",
        "\n",
        "* Iterate over different folds of df_full_train\n",
        "* Split the data into train and validation\n",
        "* Train the model on train with these parameters: LogisticRegression(solver='liblinear', C=1.0, max_iter=1000)\n",
        "* Use AUC to evaluate the model on validation\n",
        "\n",
        "How large is standard deviation of the scores across different folds?\n",
        "\n",
        "* 0.0001\n",
        "* 0.006\n",
        "* 0.06\n",
        "* 0.26"
      ],
      "metadata": {
        "id": "-Ec3d3wyEYt6"
      },
      "id": "-Ec3d3wyEYt6"
    },
    {
      "cell_type": "code",
      "execution_count": null,
      "id": "9265cdf5",
      "metadata": {
        "id": "9265cdf5"
      },
      "outputs": [],
      "source": [
        "from sklearn.model_selection import KFold\n",
        "\n",
        "kfold = KFold(n_splits=5, shuffle=True, random_state=1)"
      ]
    },
    {
      "cell_type": "code",
      "execution_count": null,
      "id": "d765c795",
      "metadata": {
        "id": "d765c795"
      },
      "outputs": [],
      "source": [
        "from tqdm.auto import tqdm"
      ]
    },
    {
      "cell_type": "code",
      "execution_count": null,
      "id": "2e2adfba",
      "metadata": {
        "id": "2e2adfba"
      },
      "outputs": [],
      "source": [
        "def train(df_train, y_train, C=1.0):\n",
        "    dicts = df_train.to_dict(orient='records')\n",
        "\n",
        "    dv = DictVectorizer(sparse=False)\n",
        "    X_train = dv.fit_transform(dicts)\n",
        "\n",
        "    model = LogisticRegression(solver='liblinear', C=C, max_iter=1000)\n",
        "    model.fit(X_train, y_train)\n",
        "\n",
        "    return dv, model\n",
        "\n",
        "def predict(df, dv, model):\n",
        "    dicts = df.to_dict(orient='records')\n",
        "\n",
        "    X = dv.transform(dicts)\n",
        "    y_pred = model.predict_proba(X)[:,1]\n",
        "\n",
        "    return y_pred"
      ]
    },
    {
      "cell_type": "code",
      "execution_count": null,
      "id": "1c4ae4fd",
      "metadata": {
        "id": "1c4ae4fd",
        "outputId": "022c3a0a-fafa-47fb-ea74-a410104206b6"
      },
      "outputs": [
        {
          "name": "stdout",
          "output_type": "stream",
          "text": [
            "0.005656168836598589\n"
          ]
        }
      ],
      "source": [
        "n_splits =5\n",
        "\n",
        "scores = []\n",
        "\n",
        "for train_idx, val_idx in kfold.split(full_train):\n",
        "    df_train = full_train.iloc[train_idx]\n",
        "    df_val = full_train.iloc[val_idx]\n",
        "\n",
        "    X_train = df_train.drop('y', axis=1)\n",
        "    X_val = df_val.drop('y', axis=1)\n",
        "\n",
        "    y_train = df_train.y.values\n",
        "    y_val = df_val.y.values\n",
        "\n",
        "    dv, model = train(X_train,y_train)\n",
        "    y_pred = predict(X_val, dv, model)\n",
        "\n",
        "    auc = roc_auc_score(y_val, y_pred)\n",
        "    scores.append(auc)\n",
        "\n",
        "print(np.std(scores))"
      ]
    },
    {
      "cell_type": "markdown",
      "source": [
        "**Question 6: Hyperparameter Tuning**\n",
        "\n",
        "Now let's use 5-Fold cross-validation to find the best parameter C\n",
        "\n",
        "* Iterate over the following C values: [0.000001, 0.001, 1]\n",
        "* Initialize KFold with the same parameters as previously\n",
        "* Use these parameters for the model: LogisticRegression(solver='liblinear', C=C, max_iter=1000)\n",
        "* Compute the mean score as well as the std (round the mean and std to 3 decimal digits)\n",
        "\n",
        "Which C leads to the best mean score?\n",
        "\n",
        "* 0.000001\n",
        "* 0.001\n",
        "* 1\n",
        "\n",
        "If you have ties, select the score with the lowest std. If you still have ties, select the smallest C."
      ],
      "metadata": {
        "id": "1cxZkNYRFAJY"
      },
      "id": "1cxZkNYRFAJY"
    },
    {
      "cell_type": "code",
      "execution_count": null,
      "id": "dde242bb",
      "metadata": {
        "colab": {
          "referenced_widgets": [
            "aa09564ecc3247a38b3b5e0a8710629a"
          ]
        },
        "id": "dde242bb",
        "outputId": "417fd809-657e-4dd5-af95-4568f024c1f4"
      },
      "outputs": [
        {
          "data": {
            "application/vnd.jupyter.widget-view+json": {
              "model_id": "aa09564ecc3247a38b3b5e0a8710629a",
              "version_major": 2,
              "version_minor": 0
            },
            "text/plain": [
              "  0%|          | 0/3 [00:00<?, ?it/s]"
            ]
          },
          "metadata": {},
          "output_type": "display_data"
        },
        {
          "name": "stdout",
          "output_type": "stream",
          "text": [
            "C:1e-06 Mean: 0.702\n",
            "C:0.001 Mean: 0.986\n",
            "C:1 Mean: 1.000\n"
          ]
        }
      ],
      "source": [
        "n_splits = 5\n",
        "\n",
        "for c in tqdm([0.000001, 0.001, 1]):\n",
        "\n",
        "    scores = []\n",
        "\n",
        "    for train_idx, val_idx in kfold.split(full_train):\n",
        "        df_train = full_train.iloc[train_idx]\n",
        "        df_val = full_train.iloc[val_idx]\n",
        "\n",
        "        X_train = df_train.drop('y', axis=1)\n",
        "        X_val = df_val.drop('y', axis=1)\n",
        "\n",
        "        y_train = df_train.y.values\n",
        "        y_val = df_val.y.values\n",
        "\n",
        "        dv, model = train(df_train,y_train, C=c)\n",
        "        y_pred = predict(df_val, dv, model)\n",
        "\n",
        "        auc = roc_auc_score(y_val, y_pred)\n",
        "        scores.append(auc)\n",
        "\n",
        "    print('C:%s Mean: %.3f' % (c, np.mean(scores)))"
      ]
    }
  ],
  "metadata": {
    "kernelspec": {
      "display_name": "Python 3 (ipykernel)",
      "language": "python",
      "name": "python3"
    },
    "language_info": {
      "codemirror_mode": {
        "name": "ipython",
        "version": 3
      },
      "file_extension": ".py",
      "mimetype": "text/x-python",
      "name": "python",
      "nbconvert_exporter": "python",
      "pygments_lexer": "ipython3",
      "version": "3.11.5"
    },
    "colab": {
      "provenance": []
    }
  },
  "nbformat": 4,
  "nbformat_minor": 5
}